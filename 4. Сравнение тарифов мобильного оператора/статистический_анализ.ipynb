{
 "cells": [
  {
   "cell_type": "markdown",
   "metadata": {},
   "source": [
    "# Определение перспективного тарифа для телеком компании\n",
    "\n",
    "## Описание проекта\n",
    "Вы аналитик компании «Мегалайн» — федерального оператора сотовой связи. Клиентам предлагают два тарифных плана: «Смарт» и «Ультра». Чтобы скорректировать рекламный бюджет, коммерческий департамент хочет понять, какой тариф приносит больше денег.\n",
    "Вам предстоит сделать предварительный анализ тарифов на небольшой выборке клиентов. В вашем распоряжении данные 500 пользователей «Мегалайна»: кто они, откуда, каким тарифом пользуются, сколько звонков и сообщений каждый отправил за 2018 год. Нужно проанализировать поведение клиентов и сделать вывод — какой тариф лучше.\n",
    "\n",
    "## Описание тарифов\n",
    "**Тариф «Смарт»**\n",
    "* Ежемесячная плата: 550 рублей\n",
    "* Включено 500 минут разговора, 50 сообщений и 15 Гб интернет-трафика\n",
    "* Стоимость услуг сверх тарифного пакета:\n",
    "* минута разговора: 3 рубля\n",
    "* сообщение: 3 рубля\n",
    "* 1 Гб интернет-трафика: 200 рублей\n",
    "\n",
    "**Тариф «Ультра»**\n",
    "* Ежемесячная плата: 1950 рублей\n",
    "* Включено 3000 минут разговора, 1000 сообщений и 30 Гб интернет-трафика\n",
    "* Стоимость услуг сверх тарифного пакета:\n",
    "* минута разговора: 1 рубль\n",
    "* сообщение: 1 рубль\n",
    "* 1 Гб интернет-трафика: 150 рублей\n",
    "\n",
    "**Обратите внимание:** «Мегалайн» всегда округляет вверх значения минут и мегабайтов. Если пользователь проговорил всего 1 секунду, в тарифе засчитывается целая минута.\n",
    "\n",
    "## Описание данных\n",
    "\n",
    "### Таблица users (информация о пользователях):\n",
    "* user_id — уникальный идентификатор пользователя\n",
    "* first_name — имя пользователя\n",
    "* last_name — фамилия пользователя\n",
    "* age — возраст пользователя (годы)\n",
    "* reg_date — дата подключения тарифа (день, месяц, год)\n",
    "* churn_date — дата прекращения пользования тарифом (если значение пропущено, то тариф ещё действовал на момент выгрузки данных)\n",
    "* city — город проживания пользователя\n",
    "* tariff — название тарифного плана\n",
    "\n",
    "### Таблица calls (информация о звонках):\n",
    "* id — уникальный номер звонка\n",
    "* call_date — дата звонка\n",
    "* duration — длительность звонка в минутах\n",
    "* user_id — идентификатор пользователя, сделавшего звонок\n",
    "\n",
    "### Таблица messages (информация о сообщениях):\n",
    "* id — уникальный номер сообщения\n",
    "* message_date — дата сообщения\n",
    "* user_id — идентификатор пользователя, отправившего сообщение\n",
    "\n",
    "### Таблица internet (информация об интернет-сессиях):\n",
    "* id — уникальный номер сессии\n",
    "* mb_used — объём потраченного за сессию интернет-трафика (в мегабайтах)\n",
    "* session_date — дата интернет-сессии\n",
    "* user_id — идентификатор пользователя\n",
    "\n",
    "### Таблица tariffs (информация о тарифах):\n",
    "* tariff_name — название тарифа\n",
    "* rub_monthly_fee — ежемесячная абонентская плата в рублях\n",
    "* minutes_included — количество минут разговора в месяц, включённых в абонентскую плату\n",
    "* messages_included — количество сообщений в месяц, включённых в абонентскую плату\n",
    "* mb_per_month_included — объём интернет-трафика, включённого в абонентскую плату (в мегабайтах)\n",
    "* rub_per_minute — стоимость минуты разговора сверх тарифного пакета (например, если в тарифе 100 минут разговора в месяц, то со * 101 минуты будет взиматься плата)\n",
    "* rub_per_message — стоимость отправки сообщения сверх тарифного пакета\n",
    "* rub_per_gb — стоимость дополнительного гигабайта интернет-трафика сверх тарифного пакета (1 гигабайт = 1024 мегабайта)\n",
    "\n",
    "## Цели проекта\n",
    "Проверка гипотез:\n",
    "* средняя выручка пользователей тарифов «Ультра» и «Смарт» различается;\n",
    "* средняя выручка пользователей из Москвы отличается от выручки пользователей из других регионов;\n",
    "\n",
    "<a id = 'Оглавление'></a>\n",
    "## Оглавление:\n",
    "* [Шаг 1. Изучение общей информации](#Шаг1)\n",
    "* [Шаг 2. Подготовка данных](#Шаг2)\n",
    "* [Шаг 3. Анализ данных](#Шаг3)\n",
    "* [Шаг 4. Проверка гипотез](#Шаг4)\n",
    "* [Шаг 5. Общий вывод](#Шаг5)\n"
   ]
  },
  {
   "cell_type": "markdown",
   "metadata": {},
   "source": [
    "<a id='Шаг1'></a>\n",
    "# Шаг 1. Изучение общей информации"
   ]
  },
  {
   "cell_type": "code",
   "execution_count": 64,
   "metadata": {},
   "outputs": [],
   "source": [
    "import pandas as pd\n",
    "import numpy as np\n",
    "import matplotlib.pyplot as plt\n",
    "import seaborn as sns\n",
    "import math\n",
    "import scipy.stats as stats\n",
    "import pylab "
   ]
  },
  {
   "cell_type": "code",
   "execution_count": 65,
   "metadata": {},
   "outputs": [],
   "source": [
    "df_calls = pd.read_csv('/datasets/calls.csv')\n",
    "df_internet = pd.read_csv('/datasets/internet.csv')\n",
    "df_messages = pd.read_csv('/datasets/messages.csv')\n",
    "df_tariffs = pd.read_csv('/datasets/tariffs.csv')\n",
    "df_users = pd.read_csv('/datasets/users.csv')"
   ]
  },
  {
   "cell_type": "code",
   "execution_count": 66,
   "metadata": {},
   "outputs": [],
   "source": [
    "dict_df = {\n",
    "    'calls': df_calls,\n",
    "    'internet': df_internet,\n",
    "    'messages': df_messages,\n",
    "    'tariffs': df_tariffs,\n",
    "    'users': df_users\n",
    "}\n",
    "#[df_calls, df_internet, df_messages, df_tariffs, df_users]"
   ]
  },
  {
   "cell_type": "code",
   "execution_count": 67,
   "metadata": {
    "scrolled": false
   },
   "outputs": [
    {
     "name": "stdout",
     "output_type": "stream",
     "text": [
      "------------\n",
      "\u001b[1mcalls\u001b[0m\n"
     ]
    },
    {
     "data": {
      "text/html": [
       "<div>\n",
       "<style scoped>\n",
       "    .dataframe tbody tr th:only-of-type {\n",
       "        vertical-align: middle;\n",
       "    }\n",
       "\n",
       "    .dataframe tbody tr th {\n",
       "        vertical-align: top;\n",
       "    }\n",
       "\n",
       "    .dataframe thead th {\n",
       "        text-align: right;\n",
       "    }\n",
       "</style>\n",
       "<table border=\"1\" class=\"dataframe\">\n",
       "  <thead>\n",
       "    <tr style=\"text-align: right;\">\n",
       "      <th></th>\n",
       "      <th>id</th>\n",
       "      <th>call_date</th>\n",
       "      <th>duration</th>\n",
       "      <th>user_id</th>\n",
       "    </tr>\n",
       "  </thead>\n",
       "  <tbody>\n",
       "    <tr>\n",
       "      <td>0</td>\n",
       "      <td>1000_0</td>\n",
       "      <td>2018-07-25</td>\n",
       "      <td>0.00</td>\n",
       "      <td>1000</td>\n",
       "    </tr>\n",
       "    <tr>\n",
       "      <td>1</td>\n",
       "      <td>1000_1</td>\n",
       "      <td>2018-08-17</td>\n",
       "      <td>0.00</td>\n",
       "      <td>1000</td>\n",
       "    </tr>\n",
       "    <tr>\n",
       "      <td>2</td>\n",
       "      <td>1000_2</td>\n",
       "      <td>2018-06-11</td>\n",
       "      <td>2.85</td>\n",
       "      <td>1000</td>\n",
       "    </tr>\n",
       "    <tr>\n",
       "      <td>3</td>\n",
       "      <td>1000_3</td>\n",
       "      <td>2018-09-21</td>\n",
       "      <td>13.80</td>\n",
       "      <td>1000</td>\n",
       "    </tr>\n",
       "    <tr>\n",
       "      <td>4</td>\n",
       "      <td>1000_4</td>\n",
       "      <td>2018-12-15</td>\n",
       "      <td>5.18</td>\n",
       "      <td>1000</td>\n",
       "    </tr>\n",
       "  </tbody>\n",
       "</table>\n",
       "</div>"
      ],
      "text/plain": [
       "       id   call_date  duration  user_id\n",
       "0  1000_0  2018-07-25      0.00     1000\n",
       "1  1000_1  2018-08-17      0.00     1000\n",
       "2  1000_2  2018-06-11      2.85     1000\n",
       "3  1000_3  2018-09-21     13.80     1000\n",
       "4  1000_4  2018-12-15      5.18     1000"
      ]
     },
     "metadata": {},
     "output_type": "display_data"
    },
    {
     "name": "stdout",
     "output_type": "stream",
     "text": [
      "------------\n",
      "\u001b[1minternet\u001b[0m\n"
     ]
    },
    {
     "data": {
      "text/html": [
       "<div>\n",
       "<style scoped>\n",
       "    .dataframe tbody tr th:only-of-type {\n",
       "        vertical-align: middle;\n",
       "    }\n",
       "\n",
       "    .dataframe tbody tr th {\n",
       "        vertical-align: top;\n",
       "    }\n",
       "\n",
       "    .dataframe thead th {\n",
       "        text-align: right;\n",
       "    }\n",
       "</style>\n",
       "<table border=\"1\" class=\"dataframe\">\n",
       "  <thead>\n",
       "    <tr style=\"text-align: right;\">\n",
       "      <th></th>\n",
       "      <th>Unnamed: 0</th>\n",
       "      <th>id</th>\n",
       "      <th>mb_used</th>\n",
       "      <th>session_date</th>\n",
       "      <th>user_id</th>\n",
       "    </tr>\n",
       "  </thead>\n",
       "  <tbody>\n",
       "    <tr>\n",
       "      <td>0</td>\n",
       "      <td>0</td>\n",
       "      <td>1000_0</td>\n",
       "      <td>112.95</td>\n",
       "      <td>2018-11-25</td>\n",
       "      <td>1000</td>\n",
       "    </tr>\n",
       "    <tr>\n",
       "      <td>1</td>\n",
       "      <td>1</td>\n",
       "      <td>1000_1</td>\n",
       "      <td>1052.81</td>\n",
       "      <td>2018-09-07</td>\n",
       "      <td>1000</td>\n",
       "    </tr>\n",
       "    <tr>\n",
       "      <td>2</td>\n",
       "      <td>2</td>\n",
       "      <td>1000_2</td>\n",
       "      <td>1197.26</td>\n",
       "      <td>2018-06-25</td>\n",
       "      <td>1000</td>\n",
       "    </tr>\n",
       "    <tr>\n",
       "      <td>3</td>\n",
       "      <td>3</td>\n",
       "      <td>1000_3</td>\n",
       "      <td>550.27</td>\n",
       "      <td>2018-08-22</td>\n",
       "      <td>1000</td>\n",
       "    </tr>\n",
       "    <tr>\n",
       "      <td>4</td>\n",
       "      <td>4</td>\n",
       "      <td>1000_4</td>\n",
       "      <td>302.56</td>\n",
       "      <td>2018-09-24</td>\n",
       "      <td>1000</td>\n",
       "    </tr>\n",
       "  </tbody>\n",
       "</table>\n",
       "</div>"
      ],
      "text/plain": [
       "   Unnamed: 0      id  mb_used session_date  user_id\n",
       "0           0  1000_0   112.95   2018-11-25     1000\n",
       "1           1  1000_1  1052.81   2018-09-07     1000\n",
       "2           2  1000_2  1197.26   2018-06-25     1000\n",
       "3           3  1000_3   550.27   2018-08-22     1000\n",
       "4           4  1000_4   302.56   2018-09-24     1000"
      ]
     },
     "metadata": {},
     "output_type": "display_data"
    },
    {
     "name": "stdout",
     "output_type": "stream",
     "text": [
      "------------\n",
      "\u001b[1mmessages\u001b[0m\n"
     ]
    },
    {
     "data": {
      "text/html": [
       "<div>\n",
       "<style scoped>\n",
       "    .dataframe tbody tr th:only-of-type {\n",
       "        vertical-align: middle;\n",
       "    }\n",
       "\n",
       "    .dataframe tbody tr th {\n",
       "        vertical-align: top;\n",
       "    }\n",
       "\n",
       "    .dataframe thead th {\n",
       "        text-align: right;\n",
       "    }\n",
       "</style>\n",
       "<table border=\"1\" class=\"dataframe\">\n",
       "  <thead>\n",
       "    <tr style=\"text-align: right;\">\n",
       "      <th></th>\n",
       "      <th>id</th>\n",
       "      <th>message_date</th>\n",
       "      <th>user_id</th>\n",
       "    </tr>\n",
       "  </thead>\n",
       "  <tbody>\n",
       "    <tr>\n",
       "      <td>0</td>\n",
       "      <td>1000_0</td>\n",
       "      <td>2018-06-27</td>\n",
       "      <td>1000</td>\n",
       "    </tr>\n",
       "    <tr>\n",
       "      <td>1</td>\n",
       "      <td>1000_1</td>\n",
       "      <td>2018-10-08</td>\n",
       "      <td>1000</td>\n",
       "    </tr>\n",
       "    <tr>\n",
       "      <td>2</td>\n",
       "      <td>1000_2</td>\n",
       "      <td>2018-08-04</td>\n",
       "      <td>1000</td>\n",
       "    </tr>\n",
       "    <tr>\n",
       "      <td>3</td>\n",
       "      <td>1000_3</td>\n",
       "      <td>2018-06-16</td>\n",
       "      <td>1000</td>\n",
       "    </tr>\n",
       "    <tr>\n",
       "      <td>4</td>\n",
       "      <td>1000_4</td>\n",
       "      <td>2018-12-05</td>\n",
       "      <td>1000</td>\n",
       "    </tr>\n",
       "  </tbody>\n",
       "</table>\n",
       "</div>"
      ],
      "text/plain": [
       "       id message_date  user_id\n",
       "0  1000_0   2018-06-27     1000\n",
       "1  1000_1   2018-10-08     1000\n",
       "2  1000_2   2018-08-04     1000\n",
       "3  1000_3   2018-06-16     1000\n",
       "4  1000_4   2018-12-05     1000"
      ]
     },
     "metadata": {},
     "output_type": "display_data"
    },
    {
     "name": "stdout",
     "output_type": "stream",
     "text": [
      "------------\n",
      "\u001b[1mtariffs\u001b[0m\n"
     ]
    },
    {
     "data": {
      "text/html": [
       "<div>\n",
       "<style scoped>\n",
       "    .dataframe tbody tr th:only-of-type {\n",
       "        vertical-align: middle;\n",
       "    }\n",
       "\n",
       "    .dataframe tbody tr th {\n",
       "        vertical-align: top;\n",
       "    }\n",
       "\n",
       "    .dataframe thead th {\n",
       "        text-align: right;\n",
       "    }\n",
       "</style>\n",
       "<table border=\"1\" class=\"dataframe\">\n",
       "  <thead>\n",
       "    <tr style=\"text-align: right;\">\n",
       "      <th></th>\n",
       "      <th>messages_included</th>\n",
       "      <th>mb_per_month_included</th>\n",
       "      <th>minutes_included</th>\n",
       "      <th>rub_monthly_fee</th>\n",
       "      <th>rub_per_gb</th>\n",
       "      <th>rub_per_message</th>\n",
       "      <th>rub_per_minute</th>\n",
       "      <th>tariff_name</th>\n",
       "    </tr>\n",
       "  </thead>\n",
       "  <tbody>\n",
       "    <tr>\n",
       "      <td>0</td>\n",
       "      <td>50</td>\n",
       "      <td>15360</td>\n",
       "      <td>500</td>\n",
       "      <td>550</td>\n",
       "      <td>200</td>\n",
       "      <td>3</td>\n",
       "      <td>3</td>\n",
       "      <td>smart</td>\n",
       "    </tr>\n",
       "    <tr>\n",
       "      <td>1</td>\n",
       "      <td>1000</td>\n",
       "      <td>30720</td>\n",
       "      <td>3000</td>\n",
       "      <td>1950</td>\n",
       "      <td>150</td>\n",
       "      <td>1</td>\n",
       "      <td>1</td>\n",
       "      <td>ultra</td>\n",
       "    </tr>\n",
       "  </tbody>\n",
       "</table>\n",
       "</div>"
      ],
      "text/plain": [
       "   messages_included  mb_per_month_included  minutes_included  \\\n",
       "0                 50                  15360               500   \n",
       "1               1000                  30720              3000   \n",
       "\n",
       "   rub_monthly_fee  rub_per_gb  rub_per_message  rub_per_minute tariff_name  \n",
       "0              550         200                3               3       smart  \n",
       "1             1950         150                1               1       ultra  "
      ]
     },
     "metadata": {},
     "output_type": "display_data"
    },
    {
     "name": "stdout",
     "output_type": "stream",
     "text": [
      "------------\n",
      "\u001b[1musers\u001b[0m\n"
     ]
    },
    {
     "data": {
      "text/html": [
       "<div>\n",
       "<style scoped>\n",
       "    .dataframe tbody tr th:only-of-type {\n",
       "        vertical-align: middle;\n",
       "    }\n",
       "\n",
       "    .dataframe tbody tr th {\n",
       "        vertical-align: top;\n",
       "    }\n",
       "\n",
       "    .dataframe thead th {\n",
       "        text-align: right;\n",
       "    }\n",
       "</style>\n",
       "<table border=\"1\" class=\"dataframe\">\n",
       "  <thead>\n",
       "    <tr style=\"text-align: right;\">\n",
       "      <th></th>\n",
       "      <th>user_id</th>\n",
       "      <th>age</th>\n",
       "      <th>churn_date</th>\n",
       "      <th>city</th>\n",
       "      <th>first_name</th>\n",
       "      <th>last_name</th>\n",
       "      <th>reg_date</th>\n",
       "      <th>tariff</th>\n",
       "    </tr>\n",
       "  </thead>\n",
       "  <tbody>\n",
       "    <tr>\n",
       "      <td>0</td>\n",
       "      <td>1000</td>\n",
       "      <td>52</td>\n",
       "      <td>NaN</td>\n",
       "      <td>Краснодар</td>\n",
       "      <td>Рафаил</td>\n",
       "      <td>Верещагин</td>\n",
       "      <td>2018-05-25</td>\n",
       "      <td>ultra</td>\n",
       "    </tr>\n",
       "    <tr>\n",
       "      <td>1</td>\n",
       "      <td>1001</td>\n",
       "      <td>41</td>\n",
       "      <td>NaN</td>\n",
       "      <td>Москва</td>\n",
       "      <td>Иван</td>\n",
       "      <td>Ежов</td>\n",
       "      <td>2018-11-01</td>\n",
       "      <td>smart</td>\n",
       "    </tr>\n",
       "    <tr>\n",
       "      <td>2</td>\n",
       "      <td>1002</td>\n",
       "      <td>59</td>\n",
       "      <td>NaN</td>\n",
       "      <td>Стерлитамак</td>\n",
       "      <td>Евгений</td>\n",
       "      <td>Абрамович</td>\n",
       "      <td>2018-06-17</td>\n",
       "      <td>smart</td>\n",
       "    </tr>\n",
       "    <tr>\n",
       "      <td>3</td>\n",
       "      <td>1003</td>\n",
       "      <td>23</td>\n",
       "      <td>NaN</td>\n",
       "      <td>Москва</td>\n",
       "      <td>Белла</td>\n",
       "      <td>Белякова</td>\n",
       "      <td>2018-08-17</td>\n",
       "      <td>ultra</td>\n",
       "    </tr>\n",
       "    <tr>\n",
       "      <td>4</td>\n",
       "      <td>1004</td>\n",
       "      <td>68</td>\n",
       "      <td>NaN</td>\n",
       "      <td>Новокузнецк</td>\n",
       "      <td>Татьяна</td>\n",
       "      <td>Авдеенко</td>\n",
       "      <td>2018-05-14</td>\n",
       "      <td>ultra</td>\n",
       "    </tr>\n",
       "  </tbody>\n",
       "</table>\n",
       "</div>"
      ],
      "text/plain": [
       "   user_id  age churn_date         city first_name  last_name    reg_date  \\\n",
       "0     1000   52        NaN    Краснодар     Рафаил  Верещагин  2018-05-25   \n",
       "1     1001   41        NaN       Москва       Иван       Ежов  2018-11-01   \n",
       "2     1002   59        NaN  Стерлитамак    Евгений  Абрамович  2018-06-17   \n",
       "3     1003   23        NaN       Москва      Белла   Белякова  2018-08-17   \n",
       "4     1004   68        NaN  Новокузнецк    Татьяна   Авдеенко  2018-05-14   \n",
       "\n",
       "  tariff  \n",
       "0  ultra  \n",
       "1  smart  \n",
       "2  smart  \n",
       "3  ultra  \n",
       "4  ultra  "
      ]
     },
     "metadata": {},
     "output_type": "display_data"
    }
   ],
   "source": [
    "for k, df in dict_df.items():\n",
    "    print('------------')\n",
    "    print('\\033[1m' + k + '\\033[0m')\n",
    "    display(df.head())"
   ]
  },
  {
   "cell_type": "code",
   "execution_count": 68,
   "metadata": {},
   "outputs": [
    {
     "name": "stdout",
     "output_type": "stream",
     "text": [
      "------------\n",
      "\u001b[1mcalls\u001b[0m\n",
      "<class 'pandas.core.frame.DataFrame'>\n",
      "RangeIndex: 202607 entries, 0 to 202606\n",
      "Data columns (total 4 columns):\n",
      "id           202607 non-null object\n",
      "call_date    202607 non-null object\n",
      "duration     202607 non-null float64\n",
      "user_id      202607 non-null int64\n",
      "dtypes: float64(1), int64(1), object(2)\n",
      "memory usage: 6.2+ MB\n"
     ]
    },
    {
     "data": {
      "text/plain": [
       "None"
      ]
     },
     "metadata": {},
     "output_type": "display_data"
    },
    {
     "name": "stdout",
     "output_type": "stream",
     "text": [
      "------------\n",
      "\u001b[1minternet\u001b[0m\n",
      "<class 'pandas.core.frame.DataFrame'>\n",
      "RangeIndex: 149396 entries, 0 to 149395\n",
      "Data columns (total 5 columns):\n",
      "Unnamed: 0      149396 non-null int64\n",
      "id              149396 non-null object\n",
      "mb_used         149396 non-null float64\n",
      "session_date    149396 non-null object\n",
      "user_id         149396 non-null int64\n",
      "dtypes: float64(1), int64(2), object(2)\n",
      "memory usage: 5.7+ MB\n"
     ]
    },
    {
     "data": {
      "text/plain": [
       "None"
      ]
     },
     "metadata": {},
     "output_type": "display_data"
    },
    {
     "name": "stdout",
     "output_type": "stream",
     "text": [
      "------------\n",
      "\u001b[1mmessages\u001b[0m\n",
      "<class 'pandas.core.frame.DataFrame'>\n",
      "RangeIndex: 123036 entries, 0 to 123035\n",
      "Data columns (total 3 columns):\n",
      "id              123036 non-null object\n",
      "message_date    123036 non-null object\n",
      "user_id         123036 non-null int64\n",
      "dtypes: int64(1), object(2)\n",
      "memory usage: 2.8+ MB\n"
     ]
    },
    {
     "data": {
      "text/plain": [
       "None"
      ]
     },
     "metadata": {},
     "output_type": "display_data"
    },
    {
     "name": "stdout",
     "output_type": "stream",
     "text": [
      "------------\n",
      "\u001b[1mtariffs\u001b[0m\n",
      "<class 'pandas.core.frame.DataFrame'>\n",
      "RangeIndex: 2 entries, 0 to 1\n",
      "Data columns (total 8 columns):\n",
      "messages_included        2 non-null int64\n",
      "mb_per_month_included    2 non-null int64\n",
      "minutes_included         2 non-null int64\n",
      "rub_monthly_fee          2 non-null int64\n",
      "rub_per_gb               2 non-null int64\n",
      "rub_per_message          2 non-null int64\n",
      "rub_per_minute           2 non-null int64\n",
      "tariff_name              2 non-null object\n",
      "dtypes: int64(7), object(1)\n",
      "memory usage: 256.0+ bytes\n"
     ]
    },
    {
     "data": {
      "text/plain": [
       "None"
      ]
     },
     "metadata": {},
     "output_type": "display_data"
    },
    {
     "name": "stdout",
     "output_type": "stream",
     "text": [
      "------------\n",
      "\u001b[1musers\u001b[0m\n",
      "<class 'pandas.core.frame.DataFrame'>\n",
      "RangeIndex: 500 entries, 0 to 499\n",
      "Data columns (total 8 columns):\n",
      "user_id       500 non-null int64\n",
      "age           500 non-null int64\n",
      "churn_date    38 non-null object\n",
      "city          500 non-null object\n",
      "first_name    500 non-null object\n",
      "last_name     500 non-null object\n",
      "reg_date      500 non-null object\n",
      "tariff        500 non-null object\n",
      "dtypes: int64(2), object(6)\n",
      "memory usage: 31.4+ KB\n"
     ]
    },
    {
     "data": {
      "text/plain": [
       "None"
      ]
     },
     "metadata": {},
     "output_type": "display_data"
    }
   ],
   "source": [
    "for k, df in dict_df.items():\n",
    "    print('------------')\n",
    "    print('\\033[1m' + k + '\\033[0m')\n",
    "    display(df.info())"
   ]
  },
  {
   "cell_type": "code",
   "execution_count": 69,
   "metadata": {},
   "outputs": [
    {
     "name": "stdout",
     "output_type": "stream",
     "text": [
      "2018-01-01\n",
      "2018-12-31\n"
     ]
    }
   ],
   "source": [
    "print(df_calls.call_date.min())\n",
    "print(df_calls.call_date.max())"
   ]
  },
  {
   "cell_type": "markdown",
   "metadata": {},
   "source": [
    "* Пропуски есть только в таблице \"Пользователи\" в признаке `churn_date` - дата прекращения пользования тарифом (если значение пропущено, то тариф ещё действовал на момент выгрузки данных)\n",
    "* Для некорых признаков можно изменить тип данных. Например, для reg_date подойдет datetime\n",
    "* Данные собраны за 2018 год"
   ]
  },
  {
   "cell_type": "markdown",
   "metadata": {},
   "source": [
    "[Оглавление](#Оглавление)\n",
    "<a id='Шаг2'></a>\n",
    "# Шаг 2. Подготовка данных\n",
    "\n",
    "## Цель шага:\n",
    "* **Провести чистку и неободимые преобразования данных**\n",
    "* **Получить информацию об активности клиентов по месяцам**"
   ]
  },
  {
   "cell_type": "markdown",
   "metadata": {},
   "source": [
    "Все даты преобразую в тип *datetime*\n",
    "\n",
    "Так как все потраченные минуты и мегабайты округляются вверх до целых значений, преобразую их в тип *int*"
   ]
  },
  {
   "cell_type": "code",
   "execution_count": 70,
   "metadata": {},
   "outputs": [],
   "source": [
    "df_calls['call_date'] = df_calls['call_date'].astype('datetime64')\n",
    "df_internet['session_date'] = df_internet['session_date'].astype('datetime64')\n",
    "df_messages['message_date'] = df_messages['message_date'].astype('datetime64') \n",
    "df_users['reg_date'] = df_users['reg_date'].astype('datetime64')\n",
    "df_users.loc[df_users.churn_date.isna() == False, 'churn_date'] = df_users.loc[df_users.churn_date.isna() == False, \n",
    "                                                                                   'churn_date'].astype('datetime64')"
   ]
  },
  {
   "cell_type": "code",
   "execution_count": 71,
   "metadata": {},
   "outputs": [],
   "source": [
    "df_calls['duration'] = df_calls['duration'].apply(lambda x: math.ceil(x))\n",
    "df_internet['mb_used'] = df_internet['mb_used'].apply(lambda x: math.ceil(x))"
   ]
  },
  {
   "cell_type": "code",
   "execution_count": 72,
   "metadata": {},
   "outputs": [
    {
     "data": {
      "text/html": [
       "<div>\n",
       "<style scoped>\n",
       "    .dataframe tbody tr th:only-of-type {\n",
       "        vertical-align: middle;\n",
       "    }\n",
       "\n",
       "    .dataframe tbody tr th {\n",
       "        vertical-align: top;\n",
       "    }\n",
       "\n",
       "    .dataframe thead th {\n",
       "        text-align: right;\n",
       "    }\n",
       "</style>\n",
       "<table border=\"1\" class=\"dataframe\">\n",
       "  <thead>\n",
       "    <tr style=\"text-align: right;\">\n",
       "      <th></th>\n",
       "      <th>id</th>\n",
       "      <th>call_date</th>\n",
       "      <th>duration</th>\n",
       "      <th>user_id</th>\n",
       "    </tr>\n",
       "  </thead>\n",
       "  <tbody>\n",
       "    <tr>\n",
       "      <td>0</td>\n",
       "      <td>1000_0</td>\n",
       "      <td>2018-07-25</td>\n",
       "      <td>0</td>\n",
       "      <td>1000</td>\n",
       "    </tr>\n",
       "    <tr>\n",
       "      <td>1</td>\n",
       "      <td>1000_1</td>\n",
       "      <td>2018-08-17</td>\n",
       "      <td>0</td>\n",
       "      <td>1000</td>\n",
       "    </tr>\n",
       "    <tr>\n",
       "      <td>2</td>\n",
       "      <td>1000_2</td>\n",
       "      <td>2018-06-11</td>\n",
       "      <td>3</td>\n",
       "      <td>1000</td>\n",
       "    </tr>\n",
       "    <tr>\n",
       "      <td>3</td>\n",
       "      <td>1000_3</td>\n",
       "      <td>2018-09-21</td>\n",
       "      <td>14</td>\n",
       "      <td>1000</td>\n",
       "    </tr>\n",
       "    <tr>\n",
       "      <td>4</td>\n",
       "      <td>1000_4</td>\n",
       "      <td>2018-12-15</td>\n",
       "      <td>6</td>\n",
       "      <td>1000</td>\n",
       "    </tr>\n",
       "  </tbody>\n",
       "</table>\n",
       "</div>"
      ],
      "text/plain": [
       "       id  call_date  duration  user_id\n",
       "0  1000_0 2018-07-25         0     1000\n",
       "1  1000_1 2018-08-17         0     1000\n",
       "2  1000_2 2018-06-11         3     1000\n",
       "3  1000_3 2018-09-21        14     1000\n",
       "4  1000_4 2018-12-15         6     1000"
      ]
     },
     "execution_count": 72,
     "metadata": {},
     "output_type": "execute_result"
    }
   ],
   "source": [
    "# тут видно, как округлилась длительность телефонных разговоров\n",
    "\n",
    "df_calls.head()"
   ]
  },
  {
   "cell_type": "code",
   "execution_count": 73,
   "metadata": {
    "scrolled": true
   },
   "outputs": [
    {
     "name": "stdout",
     "output_type": "stream",
     "text": [
      "------------\n",
      "\u001b[1mcalls\u001b[0m\n",
      "id                   object\n",
      "call_date    datetime64[ns]\n",
      "duration              int64\n",
      "user_id               int64\n",
      "dtype: object\n",
      "------------\n",
      "\u001b[1minternet\u001b[0m\n",
      "Unnamed: 0               int64\n",
      "id                      object\n",
      "mb_used                  int64\n",
      "session_date    datetime64[ns]\n",
      "user_id                  int64\n",
      "dtype: object\n",
      "------------\n",
      "\u001b[1mmessages\u001b[0m\n",
      "id                      object\n",
      "message_date    datetime64[ns]\n",
      "user_id                  int64\n",
      "dtype: object\n",
      "------------\n",
      "\u001b[1mtariffs\u001b[0m\n",
      "messages_included         int64\n",
      "mb_per_month_included     int64\n",
      "minutes_included          int64\n",
      "rub_monthly_fee           int64\n",
      "rub_per_gb                int64\n",
      "rub_per_message           int64\n",
      "rub_per_minute            int64\n",
      "tariff_name              object\n",
      "dtype: object\n",
      "------------\n",
      "\u001b[1musers\u001b[0m\n",
      "user_id                int64\n",
      "age                    int64\n",
      "churn_date            object\n",
      "city                  object\n",
      "first_name            object\n",
      "last_name             object\n",
      "reg_date      datetime64[ns]\n",
      "tariff                object\n",
      "dtype: object\n"
     ]
    }
   ],
   "source": [
    "for k, df in dict_df.items():\n",
    "    print('------------')\n",
    "    print('\\033[1m' + k + '\\033[0m')\n",
    "    print(df.dtypes)"
   ]
  },
  {
   "cell_type": "markdown",
   "metadata": {},
   "source": [
    "### Рассмотрим данные подробнее:\n",
    "\n",
    "Построим гистограмму распределения продолжительности телефонный звонков"
   ]
  },
  {
   "cell_type": "code",
   "execution_count": 74,
   "metadata": {},
   "outputs": [
    {
     "data": {
      "image/png": "[encoded data removed]",
      "text/plain": [
       "<Figure size 432x288 with 1 Axes>"
      ]
     },
     "metadata": {
      "needs_background": "light"
     },
     "output_type": "display_data"
    }
   ],
   "source": [
    "df_calls.duration.hist(bins=30)\n",
    "plt.xlabel('проодолжительность звонков, мин')\n",
    "plt.show()"
   ]
  },
  {
   "cell_type": "code",
   "execution_count": 75,
   "metadata": {},
   "outputs": [
    {
     "name": "stdout",
     "output_type": "stream",
     "text": [
      "\u001b[1mКоличество строк с нулевым значением:\u001b[0m\n"
     ]
    },
    {
     "data": {
      "text/plain": [
       "39613"
      ]
     },
     "execution_count": 75,
     "metadata": {},
     "output_type": "execute_result"
    }
   ],
   "source": [
    "print ('\\033[1m' + 'Количество строк с нулевым значением:' + '\\033[0m')\n",
    "df_calls.query('duration == 0').duration.count()"
   ]
  },
  {
   "cell_type": "markdown",
   "metadata": {},
   "source": [
    "В таблице с телефонными звонками есть строки с продолжительностью вызова равной нулю. Эти данные могут сильно повлиять на значение средного, медианы и т.д. Кроме того, такие вызовы не приносят компании доход, и не представляют ценности в данном исследовании.\n",
    "\n",
    "Предположу, что если в разных тарифах процент таких вызовов примерно одинаковый, их можно удалить"
   ]
  },
  {
   "cell_type": "code",
   "execution_count": 76,
   "metadata": {},
   "outputs": [
    {
     "data": {
      "text/plain": [
       "tariff\n",
       "smart    0.196977\n",
       "ultra    0.192884\n",
       "Name: id, dtype: float64"
      ]
     },
     "execution_count": 76,
     "metadata": {},
     "output_type": "execute_result"
    }
   ],
   "source": [
    "(\n",
    "    df_calls\n",
    "    .merge(df_users[['user_id', 'tariff']], left_on='user_id', right_on='user_id', suffixes=('_left', '_right'))\n",
    "    .query('duration == 0')\n",
    "    .groupby(by='tariff')\n",
    "    .id\n",
    "    .count()\n",
    "    /\n",
    "    df_calls\n",
    "    .merge(df_users[['user_id', 'tariff']], left_on='user_id', right_on='user_id', suffixes=('_left', '_right'))\n",
    "    .groupby(by='tariff')\n",
    "    .id\n",
    "    .count()\n",
    ")\n"
   ]
  },
  {
   "cell_type": "markdown",
   "metadata": {},
   "source": [
    "Процент почти совпадает, поэтому думаю можно не использовать строки с продолжительность вызова равной 0 в исследовании. Создадим новый датафрейм для дальнейшей работы."
   ]
  },
  {
   "cell_type": "code",
   "execution_count": 77,
   "metadata": {},
   "outputs": [],
   "source": [
    "df_calls_no_zero = df_calls.query('duration != 0')"
   ]
  },
  {
   "cell_type": "markdown",
   "metadata": {},
   "source": [
    "Рассмотрим размер интернет трафика за сессию:"
   ]
  },
  {
   "cell_type": "code",
   "execution_count": 78,
   "metadata": {
    "scrolled": false
   },
   "outputs": [
    {
     "data": {
      "image/png": "[encoded data removed]",
      "text/plain": [
       "<Figure size 432x288 with 1 Axes>"
      ]
     },
     "metadata": {
      "needs_background": "light"
     },
     "output_type": "display_data"
    },
    {
     "name": "stdout",
     "output_type": "stream",
     "text": [
      "\u001b[1mКоличество строк с нулевым значением:\u001b[0m\n"
     ]
    },
    {
     "data": {
      "text/plain": [
       "19598"
      ]
     },
     "execution_count": 78,
     "metadata": {},
     "output_type": "execute_result"
    }
   ],
   "source": [
    "df_internet.mb_used.hist(bins=30)\n",
    "plt.xlabel('Объем данных за сессию')\n",
    "plt.show()\n",
    "print ('\\033[1m' + 'Количество строк с нулевым значением:' + '\\033[0m')\n",
    "df_internet.query('mb_used == 0').mb_used.count()"
   ]
  },
  {
   "cell_type": "markdown",
   "metadata": {},
   "source": [
    "Эти строки тоже стоит удалить, так как они не представляют интереса и скорее всего являются технической ошибкой."
   ]
  },
  {
   "cell_type": "code",
   "execution_count": 79,
   "metadata": {},
   "outputs": [],
   "source": [
    "df_internet_no_zero = df_internet.query('mb_used != 0')"
   ]
  },
  {
   "cell_type": "markdown",
   "metadata": {},
   "source": [
    "Теперь рассчитаем сколько минут, сообщений и интернет трафика тратят пользователи в течение месяца. Для этого сгруппируем датафремы по `user_id` и месяцам."
   ]
  },
  {
   "cell_type": "code",
   "execution_count": 80,
   "metadata": {},
   "outputs": [
    {
     "data": {
      "text/html": [
       "<div>\n",
       "<style scoped>\n",
       "    .dataframe tbody tr th:only-of-type {\n",
       "        vertical-align: middle;\n",
       "    }\n",
       "\n",
       "    .dataframe tbody tr th {\n",
       "        vertical-align: top;\n",
       "    }\n",
       "\n",
       "    .dataframe thead th {\n",
       "        text-align: right;\n",
       "    }\n",
       "</style>\n",
       "<table border=\"1\" class=\"dataframe\">\n",
       "  <thead>\n",
       "    <tr style=\"text-align: right;\">\n",
       "      <th></th>\n",
       "      <th></th>\n",
       "      <th>count</th>\n",
       "      <th>sum</th>\n",
       "    </tr>\n",
       "    <tr>\n",
       "      <th>user_id</th>\n",
       "      <th>call_date</th>\n",
       "      <th></th>\n",
       "      <th></th>\n",
       "    </tr>\n",
       "  </thead>\n",
       "  <tbody>\n",
       "    <tr>\n",
       "      <td rowspan=\"5\" valign=\"top\">1000</td>\n",
       "      <td>5</td>\n",
       "      <td>17</td>\n",
       "      <td>159</td>\n",
       "    </tr>\n",
       "    <tr>\n",
       "      <td>6</td>\n",
       "      <td>28</td>\n",
       "      <td>172</td>\n",
       "    </tr>\n",
       "    <tr>\n",
       "      <td>7</td>\n",
       "      <td>41</td>\n",
       "      <td>340</td>\n",
       "    </tr>\n",
       "    <tr>\n",
       "      <td>8</td>\n",
       "      <td>42</td>\n",
       "      <td>408</td>\n",
       "    </tr>\n",
       "    <tr>\n",
       "      <td>9</td>\n",
       "      <td>46</td>\n",
       "      <td>466</td>\n",
       "    </tr>\n",
       "    <tr>\n",
       "      <td>...</td>\n",
       "      <td>...</td>\n",
       "      <td>...</td>\n",
       "      <td>...</td>\n",
       "    </tr>\n",
       "    <tr>\n",
       "      <td>1498</td>\n",
       "      <td>10</td>\n",
       "      <td>30</td>\n",
       "      <td>247</td>\n",
       "    </tr>\n",
       "    <tr>\n",
       "      <td rowspan=\"4\" valign=\"top\">1499</td>\n",
       "      <td>9</td>\n",
       "      <td>8</td>\n",
       "      <td>70</td>\n",
       "    </tr>\n",
       "    <tr>\n",
       "      <td>10</td>\n",
       "      <td>44</td>\n",
       "      <td>449</td>\n",
       "    </tr>\n",
       "    <tr>\n",
       "      <td>11</td>\n",
       "      <td>62</td>\n",
       "      <td>612</td>\n",
       "    </tr>\n",
       "    <tr>\n",
       "      <td>12</td>\n",
       "      <td>56</td>\n",
       "      <td>492</td>\n",
       "    </tr>\n",
       "  </tbody>\n",
       "</table>\n",
       "<p>3168 rows × 2 columns</p>\n",
       "</div>"
      ],
      "text/plain": [
       "                   count  sum\n",
       "user_id call_date            \n",
       "1000    5             17  159\n",
       "        6             28  172\n",
       "        7             41  340\n",
       "        8             42  408\n",
       "        9             46  466\n",
       "...                  ...  ...\n",
       "1498    10            30  247\n",
       "1499    9              8   70\n",
       "        10            44  449\n",
       "        11            62  612\n",
       "        12            56  492\n",
       "\n",
       "[3168 rows x 2 columns]"
      ]
     },
     "execution_count": 80,
     "metadata": {},
     "output_type": "execute_result"
    }
   ],
   "source": [
    "call_groups = df_calls_no_zero.groupby(['user_id', df_calls_no_zero.call_date.dt.month])['duration'].agg(['count', 'sum'])\n",
    "message_groups = df_messages.groupby(['user_id', df_messages.message_date.dt.month])['id'].count()\n",
    "internet_groups = df_internet_no_zero.groupby(['user_id', df_internet_no_zero.session_date.dt.month])['mb_used'].sum()\n",
    "# посмотрим что сохранилось в переменную call_groups\n",
    "call_groups"
   ]
  },
  {
   "cell_type": "markdown",
   "metadata": {},
   "source": [
    "Соберем полученные данные в один датафрейм `df_users_month`."
   ]
  },
  {
   "cell_type": "code",
   "execution_count": 81,
   "metadata": {},
   "outputs": [
    {
     "data": {
      "text/html": [
       "<div>\n",
       "<style scoped>\n",
       "    .dataframe tbody tr th:only-of-type {\n",
       "        vertical-align: middle;\n",
       "    }\n",
       "\n",
       "    .dataframe tbody tr th {\n",
       "        vertical-align: top;\n",
       "    }\n",
       "\n",
       "    .dataframe thead th {\n",
       "        text-align: right;\n",
       "    }\n",
       "</style>\n",
       "<table border=\"1\" class=\"dataframe\">\n",
       "  <thead>\n",
       "    <tr style=\"text-align: right;\">\n",
       "      <th></th>\n",
       "      <th></th>\n",
       "      <th>calls_duration</th>\n",
       "      <th>calls_count</th>\n",
       "      <th>messages_count</th>\n",
       "      <th>internet_traffic</th>\n",
       "    </tr>\n",
       "    <tr>\n",
       "      <th>user_id</th>\n",
       "      <th>month</th>\n",
       "      <th></th>\n",
       "      <th></th>\n",
       "      <th></th>\n",
       "      <th></th>\n",
       "    </tr>\n",
       "  </thead>\n",
       "  <tbody>\n",
       "    <tr>\n",
       "      <td rowspan=\"5\" valign=\"top\">1000</td>\n",
       "      <td>5</td>\n",
       "      <td>159.0</td>\n",
       "      <td>17.0</td>\n",
       "      <td>22.0</td>\n",
       "      <td>2256.0</td>\n",
       "    </tr>\n",
       "    <tr>\n",
       "      <td>6</td>\n",
       "      <td>172.0</td>\n",
       "      <td>28.0</td>\n",
       "      <td>60.0</td>\n",
       "      <td>23257.0</td>\n",
       "    </tr>\n",
       "    <tr>\n",
       "      <td>7</td>\n",
       "      <td>340.0</td>\n",
       "      <td>41.0</td>\n",
       "      <td>75.0</td>\n",
       "      <td>14016.0</td>\n",
       "    </tr>\n",
       "    <tr>\n",
       "      <td>8</td>\n",
       "      <td>408.0</td>\n",
       "      <td>42.0</td>\n",
       "      <td>81.0</td>\n",
       "      <td>14070.0</td>\n",
       "    </tr>\n",
       "    <tr>\n",
       "      <td>9</td>\n",
       "      <td>466.0</td>\n",
       "      <td>46.0</td>\n",
       "      <td>57.0</td>\n",
       "      <td>14581.0</td>\n",
       "    </tr>\n",
       "    <tr>\n",
       "      <td>...</td>\n",
       "      <td>...</td>\n",
       "      <td>...</td>\n",
       "      <td>...</td>\n",
       "      <td>...</td>\n",
       "      <td>...</td>\n",
       "    </tr>\n",
       "    <tr>\n",
       "      <td>1498</td>\n",
       "      <td>10</td>\n",
       "      <td>247.0</td>\n",
       "      <td>30.0</td>\n",
       "      <td>42.0</td>\n",
       "      <td>20604.0</td>\n",
       "    </tr>\n",
       "    <tr>\n",
       "      <td rowspan=\"4\" valign=\"top\">1499</td>\n",
       "      <td>9</td>\n",
       "      <td>70.0</td>\n",
       "      <td>8.0</td>\n",
       "      <td>11.0</td>\n",
       "      <td>1848.0</td>\n",
       "    </tr>\n",
       "    <tr>\n",
       "      <td>10</td>\n",
       "      <td>449.0</td>\n",
       "      <td>44.0</td>\n",
       "      <td>48.0</td>\n",
       "      <td>17809.0</td>\n",
       "    </tr>\n",
       "    <tr>\n",
       "      <td>11</td>\n",
       "      <td>612.0</td>\n",
       "      <td>62.0</td>\n",
       "      <td>59.0</td>\n",
       "      <td>17984.0</td>\n",
       "    </tr>\n",
       "    <tr>\n",
       "      <td>12</td>\n",
       "      <td>492.0</td>\n",
       "      <td>56.0</td>\n",
       "      <td>66.0</td>\n",
       "      <td>13077.0</td>\n",
       "    </tr>\n",
       "  </tbody>\n",
       "</table>\n",
       "<p>3214 rows × 4 columns</p>\n",
       "</div>"
      ],
      "text/plain": [
       "               calls_duration  calls_count  messages_count  internet_traffic\n",
       "user_id month                                                               \n",
       "1000    5               159.0         17.0            22.0            2256.0\n",
       "        6               172.0         28.0            60.0           23257.0\n",
       "        7               340.0         41.0            75.0           14016.0\n",
       "        8               408.0         42.0            81.0           14070.0\n",
       "        9               466.0         46.0            57.0           14581.0\n",
       "...                       ...          ...             ...               ...\n",
       "1498    10              247.0         30.0            42.0           20604.0\n",
       "1499    9                70.0          8.0            11.0            1848.0\n",
       "        10              449.0         44.0            48.0           17809.0\n",
       "        11              612.0         62.0            59.0           17984.0\n",
       "        12              492.0         56.0            66.0           13077.0\n",
       "\n",
       "[3214 rows x 4 columns]"
      ]
     },
     "execution_count": 81,
     "metadata": {},
     "output_type": "execute_result"
    }
   ],
   "source": [
    "df_users_month = pd.DataFrame({'calls_duration': call_groups['sum'], \n",
    "                          'calls_count': call_groups['count'], \n",
    "                          'messages_count': message_groups,\n",
    "                          'internet_traffic': internet_groups\n",
    "                         })\n",
    "df_users_month.index.names = ['user_id', 'month']\n",
    "df_users_month"
   ]
  },
  {
   "cell_type": "code",
   "execution_count": 82,
   "metadata": {},
   "outputs": [
    {
     "name": "stdout",
     "output_type": "stream",
     "text": [
      "\u001b[1mПроцент пропусков\u001b[0m\n"
     ]
    },
    {
     "data": {
      "text/plain": [
       "calls_duration      0.014312\n",
       "calls_count         0.014312\n",
       "messages_count      0.154636\n",
       "internet_traffic    0.004045\n",
       "dtype: float64"
      ]
     },
     "execution_count": 82,
     "metadata": {},
     "output_type": "execute_result"
    }
   ],
   "source": [
    "print ('\\033[1m' + 'Процент пропусков' + '\\033[0m')\n",
    "df_users_month.isna().mean()"
   ]
  },
  {
   "cell_type": "markdown",
   "metadata": {},
   "source": [
    "В полученном датафрейме много пропусков. Можно сделать вывод, что многие пользователи редко пользуются текстовыми сообщениями, но практически все используют интернет.\n",
    "\n",
    "Разделим полученный датафрейм на два новых датафрейма в зависимости от тарифа."
   ]
  },
  {
   "cell_type": "code",
   "execution_count": 83,
   "metadata": {},
   "outputs": [],
   "source": [
    "# создадим список пользователей для каждого тарифа\n",
    "list_user_id_ultra = df_users.query('tariff == \"ultra\"').user_id\n",
    "list_user_id_smart = df_users.query('tariff == \"smart\"').user_id\n",
    "# на основе созданных списков отфильтруем записи\n",
    "df_users_month_ultra = df_users_month.query('user_id in @list_user_id_ultra')\n",
    "df_users_month_smart = df_users_month.query('user_id in @list_user_id_smart')"
   ]
  },
  {
   "cell_type": "markdown",
   "metadata": {},
   "source": [
    "Добавим в датафреймы новые признаки:\n",
    "* `over_minutes` - превышение расхода минут\n",
    "* `over_messages` - превышение расхода сообщений\n",
    "* `over_internet` - превышение расхода интернет трафика (МБ)\n",
    "* `over_internet_gd` - превышение расхода интернет трафика (ГБ)\n",
    "* `over_payment` - дополнительный платеж\n",
    "* `total_payment` - общий платеж"
   ]
  },
  {
   "cell_type": "code",
   "execution_count": 84,
   "metadata": {},
   "outputs": [],
   "source": [
    "t_smart = {\n",
    "    'payment': 550,\n",
    "    'minutes': 500,\n",
    "    'messages': 50,\n",
    "    'internet': 15*1024,\n",
    "    'over_minutes_cost': 3,\n",
    "    'over_messages_cost': 3,\n",
    "    'over_internet_cost': 200\n",
    "}\n",
    "\n",
    "t_ultra = {\n",
    "    'payment': 1950,\n",
    "    'minutes': 3000,\n",
    "    'messages': 1000,\n",
    "    'internet': 30*1024,\n",
    "    'over_minutes_cost': 1,\n",
    "    'over_messages_cost': 1,\n",
    "    'over_internet_cost': 150\n",
    "}\n",
    "\n",
    "def create_payment(df, tariff):\n",
    "    df['over_minutes'] = df['calls_duration'] - tariff['minutes']\n",
    "    df['over_messages'] = df['messages_count'] - tariff['messages']\n",
    "    df['over_internet'] = df['internet_traffic'] - tariff['internet']\n",
    "    \n",
    "    for column in ['over_minutes', 'over_messages', 'over_internet']:\n",
    "        df[column] = df[column].fillna(0)\n",
    "        df.loc[df[column] < 0, column] = 0\n",
    "        \n",
    "    df['over_internet_gd'] = df['over_internet'].apply(lambda x: math.ceil(x / 1024))\n",
    "    \n",
    "    df['over_payment'] = (df['over_minutes'] * tariff['over_minutes_cost'] \n",
    "                          + df['over_messages'] * tariff['over_messages_cost'] \n",
    "                          + df['over_internet_gd'] * tariff['over_internet_cost']\n",
    "                         )\n",
    "    df['total_payment'] = df['over_payment'] + tariff['payment']"
   ]
  },
  {
   "cell_type": "code",
   "execution_count": 85,
   "metadata": {
    "scrolled": false
   },
   "outputs": [
    {
     "name": "stderr",
     "output_type": "stream",
     "text": [
      "/opt/conda/lib/python3.7/site-packages/ipykernel_launcher.py:22: SettingWithCopyWarning: \n",
      "A value is trying to be set on a copy of a slice from a DataFrame.\n",
      "Try using .loc[row_indexer,col_indexer] = value instead\n",
      "\n",
      "See the caveats in the documentation: http://pandas.pydata.org/pandas-docs/stable/user_guide/indexing.html#returning-a-view-versus-a-copy\n",
      "/opt/conda/lib/python3.7/site-packages/ipykernel_launcher.py:23: SettingWithCopyWarning: \n",
      "A value is trying to be set on a copy of a slice from a DataFrame.\n",
      "Try using .loc[row_indexer,col_indexer] = value instead\n",
      "\n",
      "See the caveats in the documentation: http://pandas.pydata.org/pandas-docs/stable/user_guide/indexing.html#returning-a-view-versus-a-copy\n",
      "/opt/conda/lib/python3.7/site-packages/ipykernel_launcher.py:24: SettingWithCopyWarning: \n",
      "A value is trying to be set on a copy of a slice from a DataFrame.\n",
      "Try using .loc[row_indexer,col_indexer] = value instead\n",
      "\n",
      "See the caveats in the documentation: http://pandas.pydata.org/pandas-docs/stable/user_guide/indexing.html#returning-a-view-versus-a-copy\n",
      "/opt/conda/lib/python3.7/site-packages/ipykernel_launcher.py:27: SettingWithCopyWarning: \n",
      "A value is trying to be set on a copy of a slice from a DataFrame.\n",
      "Try using .loc[row_indexer,col_indexer] = value instead\n",
      "\n",
      "See the caveats in the documentation: http://pandas.pydata.org/pandas-docs/stable/user_guide/indexing.html#returning-a-view-versus-a-copy\n",
      "/opt/conda/lib/python3.7/site-packages/pandas/core/indexing.py:494: SettingWithCopyWarning: \n",
      "A value is trying to be set on a copy of a slice from a DataFrame.\n",
      "Try using .loc[row_indexer,col_indexer] = value instead\n",
      "\n",
      "See the caveats in the documentation: http://pandas.pydata.org/pandas-docs/stable/user_guide/indexing.html#returning-a-view-versus-a-copy\n",
      "  self.obj[item] = s\n",
      "/opt/conda/lib/python3.7/site-packages/ipykernel_launcher.py:30: SettingWithCopyWarning: \n",
      "A value is trying to be set on a copy of a slice from a DataFrame.\n",
      "Try using .loc[row_indexer,col_indexer] = value instead\n",
      "\n",
      "See the caveats in the documentation: http://pandas.pydata.org/pandas-docs/stable/user_guide/indexing.html#returning-a-view-versus-a-copy\n",
      "/opt/conda/lib/python3.7/site-packages/ipykernel_launcher.py:34: SettingWithCopyWarning: \n",
      "A value is trying to be set on a copy of a slice from a DataFrame.\n",
      "Try using .loc[row_indexer,col_indexer] = value instead\n",
      "\n",
      "See the caveats in the documentation: http://pandas.pydata.org/pandas-docs/stable/user_guide/indexing.html#returning-a-view-versus-a-copy\n",
      "/opt/conda/lib/python3.7/site-packages/ipykernel_launcher.py:36: SettingWithCopyWarning: \n",
      "A value is trying to be set on a copy of a slice from a DataFrame.\n",
      "Try using .loc[row_indexer,col_indexer] = value instead\n",
      "\n",
      "See the caveats in the documentation: http://pandas.pydata.org/pandas-docs/stable/user_guide/indexing.html#returning-a-view-versus-a-copy\n"
     ]
    },
    {
     "data": {
      "text/html": [
       "<div>\n",
       "<style scoped>\n",
       "    .dataframe tbody tr th:only-of-type {\n",
       "        vertical-align: middle;\n",
       "    }\n",
       "\n",
       "    .dataframe tbody tr th {\n",
       "        vertical-align: top;\n",
       "    }\n",
       "\n",
       "    .dataframe thead th {\n",
       "        text-align: right;\n",
       "    }\n",
       "</style>\n",
       "<table border=\"1\" class=\"dataframe\">\n",
       "  <thead>\n",
       "    <tr style=\"text-align: right;\">\n",
       "      <th></th>\n",
       "      <th></th>\n",
       "      <th>calls_duration</th>\n",
       "      <th>calls_count</th>\n",
       "      <th>messages_count</th>\n",
       "      <th>internet_traffic</th>\n",
       "      <th>over_minutes</th>\n",
       "      <th>over_messages</th>\n",
       "      <th>over_internet</th>\n",
       "      <th>over_internet_gd</th>\n",
       "      <th>over_payment</th>\n",
       "      <th>total_payment</th>\n",
       "    </tr>\n",
       "    <tr>\n",
       "      <th>user_id</th>\n",
       "      <th>month</th>\n",
       "      <th></th>\n",
       "      <th></th>\n",
       "      <th></th>\n",
       "      <th></th>\n",
       "      <th></th>\n",
       "      <th></th>\n",
       "      <th></th>\n",
       "      <th></th>\n",
       "      <th></th>\n",
       "      <th></th>\n",
       "    </tr>\n",
       "  </thead>\n",
       "  <tbody>\n",
       "    <tr>\n",
       "      <td rowspan=\"2\" valign=\"top\">1001</td>\n",
       "      <td>11</td>\n",
       "      <td>430.0</td>\n",
       "      <td>45.0</td>\n",
       "      <td>NaN</td>\n",
       "      <td>18452.0</td>\n",
       "      <td>0.0</td>\n",
       "      <td>0.0</td>\n",
       "      <td>3092.0</td>\n",
       "      <td>4</td>\n",
       "      <td>800.0</td>\n",
       "      <td>1350.0</td>\n",
       "    </tr>\n",
       "    <tr>\n",
       "      <td>12</td>\n",
       "      <td>414.0</td>\n",
       "      <td>47.0</td>\n",
       "      <td>NaN</td>\n",
       "      <td>14053.0</td>\n",
       "      <td>0.0</td>\n",
       "      <td>0.0</td>\n",
       "      <td>0.0</td>\n",
       "      <td>0</td>\n",
       "      <td>0.0</td>\n",
       "      <td>550.0</td>\n",
       "    </tr>\n",
       "    <tr>\n",
       "      <td rowspan=\"3\" valign=\"top\">1002</td>\n",
       "      <td>6</td>\n",
       "      <td>117.0</td>\n",
       "      <td>14.0</td>\n",
       "      <td>4.0</td>\n",
       "      <td>10871.0</td>\n",
       "      <td>0.0</td>\n",
       "      <td>0.0</td>\n",
       "      <td>0.0</td>\n",
       "      <td>0</td>\n",
       "      <td>0.0</td>\n",
       "      <td>550.0</td>\n",
       "    </tr>\n",
       "    <tr>\n",
       "      <td>7</td>\n",
       "      <td>214.0</td>\n",
       "      <td>21.0</td>\n",
       "      <td>11.0</td>\n",
       "      <td>17601.0</td>\n",
       "      <td>0.0</td>\n",
       "      <td>0.0</td>\n",
       "      <td>2241.0</td>\n",
       "      <td>3</td>\n",
       "      <td>600.0</td>\n",
       "      <td>1150.0</td>\n",
       "    </tr>\n",
       "    <tr>\n",
       "      <td>8</td>\n",
       "      <td>289.0</td>\n",
       "      <td>37.0</td>\n",
       "      <td>13.0</td>\n",
       "      <td>20347.0</td>\n",
       "      <td>0.0</td>\n",
       "      <td>0.0</td>\n",
       "      <td>4987.0</td>\n",
       "      <td>5</td>\n",
       "      <td>1000.0</td>\n",
       "      <td>1550.0</td>\n",
       "    </tr>\n",
       "    <tr>\n",
       "      <td>...</td>\n",
       "      <td>...</td>\n",
       "      <td>...</td>\n",
       "      <td>...</td>\n",
       "      <td>...</td>\n",
       "      <td>...</td>\n",
       "      <td>...</td>\n",
       "      <td>...</td>\n",
       "      <td>...</td>\n",
       "      <td>...</td>\n",
       "      <td>...</td>\n",
       "      <td>...</td>\n",
       "    </tr>\n",
       "    <tr>\n",
       "      <td>1498</td>\n",
       "      <td>10</td>\n",
       "      <td>247.0</td>\n",
       "      <td>30.0</td>\n",
       "      <td>42.0</td>\n",
       "      <td>20604.0</td>\n",
       "      <td>0.0</td>\n",
       "      <td>0.0</td>\n",
       "      <td>5244.0</td>\n",
       "      <td>6</td>\n",
       "      <td>1200.0</td>\n",
       "      <td>1750.0</td>\n",
       "    </tr>\n",
       "    <tr>\n",
       "      <td rowspan=\"4\" valign=\"top\">1499</td>\n",
       "      <td>9</td>\n",
       "      <td>70.0</td>\n",
       "      <td>8.0</td>\n",
       "      <td>11.0</td>\n",
       "      <td>1848.0</td>\n",
       "      <td>0.0</td>\n",
       "      <td>0.0</td>\n",
       "      <td>0.0</td>\n",
       "      <td>0</td>\n",
       "      <td>0.0</td>\n",
       "      <td>550.0</td>\n",
       "    </tr>\n",
       "    <tr>\n",
       "      <td>10</td>\n",
       "      <td>449.0</td>\n",
       "      <td>44.0</td>\n",
       "      <td>48.0</td>\n",
       "      <td>17809.0</td>\n",
       "      <td>0.0</td>\n",
       "      <td>0.0</td>\n",
       "      <td>2449.0</td>\n",
       "      <td>3</td>\n",
       "      <td>600.0</td>\n",
       "      <td>1150.0</td>\n",
       "    </tr>\n",
       "    <tr>\n",
       "      <td>11</td>\n",
       "      <td>612.0</td>\n",
       "      <td>62.0</td>\n",
       "      <td>59.0</td>\n",
       "      <td>17984.0</td>\n",
       "      <td>112.0</td>\n",
       "      <td>9.0</td>\n",
       "      <td>2624.0</td>\n",
       "      <td>3</td>\n",
       "      <td>963.0</td>\n",
       "      <td>1513.0</td>\n",
       "    </tr>\n",
       "    <tr>\n",
       "      <td>12</td>\n",
       "      <td>492.0</td>\n",
       "      <td>56.0</td>\n",
       "      <td>66.0</td>\n",
       "      <td>13077.0</td>\n",
       "      <td>0.0</td>\n",
       "      <td>16.0</td>\n",
       "      <td>0.0</td>\n",
       "      <td>0</td>\n",
       "      <td>48.0</td>\n",
       "      <td>598.0</td>\n",
       "    </tr>\n",
       "  </tbody>\n",
       "</table>\n",
       "<p>2229 rows × 10 columns</p>\n",
       "</div>"
      ],
      "text/plain": [
       "               calls_duration  calls_count  messages_count  internet_traffic  \\\n",
       "user_id month                                                                  \n",
       "1001    11              430.0         45.0             NaN           18452.0   \n",
       "        12              414.0         47.0             NaN           14053.0   \n",
       "1002    6               117.0         14.0             4.0           10871.0   \n",
       "        7               214.0         21.0            11.0           17601.0   \n",
       "        8               289.0         37.0            13.0           20347.0   \n",
       "...                       ...          ...             ...               ...   \n",
       "1498    10              247.0         30.0            42.0           20604.0   \n",
       "1499    9                70.0          8.0            11.0            1848.0   \n",
       "        10              449.0         44.0            48.0           17809.0   \n",
       "        11              612.0         62.0            59.0           17984.0   \n",
       "        12              492.0         56.0            66.0           13077.0   \n",
       "\n",
       "               over_minutes  over_messages  over_internet  over_internet_gd  \\\n",
       "user_id month                                                                 \n",
       "1001    11              0.0            0.0         3092.0                 4   \n",
       "        12              0.0            0.0            0.0                 0   \n",
       "1002    6               0.0            0.0            0.0                 0   \n",
       "        7               0.0            0.0         2241.0                 3   \n",
       "        8               0.0            0.0         4987.0                 5   \n",
       "...                     ...            ...            ...               ...   \n",
       "1498    10              0.0            0.0         5244.0                 6   \n",
       "1499    9               0.0            0.0            0.0                 0   \n",
       "        10              0.0            0.0         2449.0                 3   \n",
       "        11            112.0            9.0         2624.0                 3   \n",
       "        12              0.0           16.0            0.0                 0   \n",
       "\n",
       "               over_payment  total_payment  \n",
       "user_id month                               \n",
       "1001    11            800.0         1350.0  \n",
       "        12              0.0          550.0  \n",
       "1002    6               0.0          550.0  \n",
       "        7             600.0         1150.0  \n",
       "        8            1000.0         1550.0  \n",
       "...                     ...            ...  \n",
       "1498    10           1200.0         1750.0  \n",
       "1499    9               0.0          550.0  \n",
       "        10            600.0         1150.0  \n",
       "        11            963.0         1513.0  \n",
       "        12             48.0          598.0  \n",
       "\n",
       "[2229 rows x 10 columns]"
      ]
     },
     "execution_count": 85,
     "metadata": {},
     "output_type": "execute_result"
    }
   ],
   "source": [
    "create_payment(df_users_month_ultra, t_ultra)\n",
    "create_payment(df_users_month_smart, t_smart)\n",
    "df_users_month_smart"
   ]
  },
  {
   "cell_type": "markdown",
   "metadata": {},
   "source": [
    "## Вывод\n",
    "* для некоторых признаков были изменены типы данных, \n",
    "* были удалены строки с нулевыми значениями продолжительности звонков и объема интернет сессий,\n",
    "* былы созданы два датафрейма с информацией о тратах пользователей по месяцам "
   ]
  },
  {
   "cell_type": "markdown",
   "metadata": {},
   "source": [
    "[Оглавление](#Оглавление)\n",
    "<a id='Шаг3'></a>\n",
    "# Шаг 3. Анализ данных\n",
    "\n",
    "## Цель шага:\n",
    "* **Подробнее изучить данные о расходе минут, СМС и Мб клиентами разных тарифов**"
   ]
  },
  {
   "cell_type": "markdown",
   "metadata": {},
   "source": [
    "На прошлом шаге мы создали два отдельных датафрейма для каждого тарифа. К сожалению, тогда я не подумал, что для создания графиков будет удобнее ипользовать один датафрейм. Поэтому я объединю `df_users_month_smart` и `df_users_month_ultra` в новый датафрейм `df_users_month_total`."
   ]
  },
  {
   "cell_type": "code",
   "execution_count": 86,
   "metadata": {},
   "outputs": [
    {
     "name": "stderr",
     "output_type": "stream",
     "text": [
      "/opt/conda/lib/python3.7/site-packages/ipykernel_launcher.py:1: SettingWithCopyWarning: \n",
      "A value is trying to be set on a copy of a slice from a DataFrame.\n",
      "Try using .loc[row_indexer,col_indexer] = value instead\n",
      "\n",
      "See the caveats in the documentation: http://pandas.pydata.org/pandas-docs/stable/user_guide/indexing.html#returning-a-view-versus-a-copy\n",
      "  \"\"\"Entry point for launching an IPython kernel.\n",
      "/opt/conda/lib/python3.7/site-packages/ipykernel_launcher.py:2: SettingWithCopyWarning: \n",
      "A value is trying to be set on a copy of a slice from a DataFrame.\n",
      "Try using .loc[row_indexer,col_indexer] = value instead\n",
      "\n",
      "See the caveats in the documentation: http://pandas.pydata.org/pandas-docs/stable/user_guide/indexing.html#returning-a-view-versus-a-copy\n",
      "  \n"
     ]
    }
   ],
   "source": [
    "df_users_month_smart['tariff'] = 'smart'\n",
    "df_users_month_ultra['tariff'] = 'ultra'\n",
    "df_users_month_total = pd.concat([df_users_month_smart, df_users_month_ultra])"
   ]
  },
  {
   "cell_type": "code",
   "execution_count": 87,
   "metadata": {},
   "outputs": [],
   "source": [
    "# функция для создания графиков боксплот\n",
    "\n",
    "def create_boxplot_tariff(figsize, x, y, limit_s, limit_u, ylabel, title):\n",
    "        \n",
    "    plt.figure(figsize=figsize)\n",
    "    sns.boxplot(x= x, y = y)\n",
    "    if limit_u != 0:\n",
    "        plt.plot([0, 1.5], [limit_u, limit_u], color = 'red')\n",
    "        plt.text(0, limit_u, 'Предел для тарифа УЛЬТРА')\n",
    "    if limit_s != 0:      \n",
    "        plt.plot([-1, 0.5], [limit_s, limit_s], color = 'red')\n",
    "        plt.text(-1, limit_s, 'Предел для тарифа СМАРТ')\n",
    "    plt.xlabel('Тариф')\n",
    "    plt.ylabel(ylabel)\n",
    "    plt.title(title)\n",
    "    plt.show()"
   ]
  },
  {
   "cell_type": "code",
   "execution_count": 88,
   "metadata": {},
   "outputs": [
    {
     "data": {
      "image/png": "[encoded data removed]",
      "text/plain": [
       "<Figure size 648x432 with 1 Axes>"
      ]
     },
     "metadata": {
      "needs_background": "light"
     },
     "output_type": "display_data"
    },
    {
     "data": {
      "image/png": "[encoded data removed]",
      "text/plain": [
       "<Figure size 648x432 with 1 Axes>"
      ]
     },
     "metadata": {
      "needs_background": "light"
     },
     "output_type": "display_data"
    },
    {
     "data": {
      "image/png": "[encoded data removed]",
      "text/plain": [
       "<Figure size 648x432 with 1 Axes>"
      ]
     },
     "metadata": {
      "needs_background": "light"
     },
     "output_type": "display_data"
    }
   ],
   "source": [
    "create_boxplot_tariff((9,6), df_users_month_total.tariff, df_users_month_total.calls_duration, 500, 0, 'Количество минут разговора в месяц', 'Сравнение количества минут')\n",
    "create_boxplot_tariff((9,6), df_users_month_total.tariff, df_users_month_total.messages_count, 50, 0, 'Количество сообщений в месяц', 'Сравнение количества сообщений')\n",
    "create_boxplot_tariff((9,6), df_users_month_total.tariff, df_users_month_total.internet_traffic, 15*1024, 30*1024, 'Количество МБ в месяц', 'Сравнение интернет трафика')"
   ]
  },
  {
   "cell_type": "markdown",
   "metadata": {},
   "source": [
    "На первых двух графиках нет лимита для тарифа УЛЬТРА, так как он сильно выше имеющихся значений. Если добавить его на график, информативность уменьшится (либо придется увеличить размер графика)."
   ]
  },
  {
   "cell_type": "code",
   "execution_count": 89,
   "metadata": {},
   "outputs": [
    {
     "data": {
      "text/html": [
       "<style  type=\"text/css\" >\n",
       "</style><table id=\"T_cfeace7e_e06c_11ea_9472_02420a39de9e\" ><thead>    <tr>        <th class=\"blank level0\" ></th>        <th class=\"col_heading level0 col0\" colspan=3>calls_duration</th>        <th class=\"col_heading level0 col3\" colspan=3>messages_count</th>        <th class=\"col_heading level0 col6\" colspan=3>internet_traffic</th>    </tr>    <tr>        <th class=\"blank level1\" ></th>        <th class=\"col_heading level1 col0\" >mean</th>        <th class=\"col_heading level1 col1\" >var</th>        <th class=\"col_heading level1 col2\" >std</th>        <th class=\"col_heading level1 col3\" >mean</th>        <th class=\"col_heading level1 col4\" >var</th>        <th class=\"col_heading level1 col5\" >std</th>        <th class=\"col_heading level1 col6\" >mean</th>        <th class=\"col_heading level1 col7\" >var</th>        <th class=\"col_heading level1 col8\" >std</th>    </tr>    <tr>        <th class=\"index_name level0\" >tariff</th>        <th class=\"blank\" ></th>        <th class=\"blank\" ></th>        <th class=\"blank\" ></th>        <th class=\"blank\" ></th>        <th class=\"blank\" ></th>        <th class=\"blank\" ></th>        <th class=\"blank\" ></th>        <th class=\"blank\" ></th>        <th class=\"blank\" ></th>    </tr></thead><tbody>\n",
       "                <tr>\n",
       "                        <th id=\"T_cfeace7e_e06c_11ea_9472_02420a39de9elevel0_row0\" class=\"row_heading level0 row0\" >smart</th>\n",
       "                        <td id=\"T_cfeace7e_e06c_11ea_9472_02420a39de9erow0_col0\" class=\"data row0 col0\" >419.44</td>\n",
       "                        <td id=\"T_cfeace7e_e06c_11ea_9472_02420a39de9erow0_col1\" class=\"data row0 col1\" >35718.13</td>\n",
       "                        <td id=\"T_cfeace7e_e06c_11ea_9472_02420a39de9erow0_col2\" class=\"data row0 col2\" >188.99</td>\n",
       "                        <td id=\"T_cfeace7e_e06c_11ea_9472_02420a39de9erow0_col3\" class=\"data row0 col3\" >38.72</td>\n",
       "                        <td id=\"T_cfeace7e_e06c_11ea_9472_02420a39de9erow0_col4\" class=\"data row0 col4\" >717.59</td>\n",
       "                        <td id=\"T_cfeace7e_e06c_11ea_9472_02420a39de9erow0_col5\" class=\"data row0 col5\" >26.79</td>\n",
       "                        <td id=\"T_cfeace7e_e06c_11ea_9472_02420a39de9erow0_col6\" class=\"data row0 col6\" >16243.76</td>\n",
       "                        <td id=\"T_cfeace7e_e06c_11ea_9472_02420a39de9erow0_col7\" class=\"data row0 col7\" >34340091.55</td>\n",
       "                        <td id=\"T_cfeace7e_e06c_11ea_9472_02420a39de9erow0_col8\" class=\"data row0 col8\" >5860.04</td>\n",
       "            </tr>\n",
       "            <tr>\n",
       "                        <th id=\"T_cfeace7e_e06c_11ea_9472_02420a39de9elevel0_row1\" class=\"row_heading level0 row1\" >ultra</th>\n",
       "                        <td id=\"T_cfeace7e_e06c_11ea_9472_02420a39de9erow1_col0\" class=\"data row1 col0\" >547.76</td>\n",
       "                        <td id=\"T_cfeace7e_e06c_11ea_9472_02420a39de9erow1_col1\" class=\"data row1 col1\" >93338.43</td>\n",
       "                        <td id=\"T_cfeace7e_e06c_11ea_9472_02420a39de9erow1_col2\" class=\"data row1 col2\" >305.51</td>\n",
       "                        <td id=\"T_cfeace7e_e06c_11ea_9472_02420a39de9erow1_col3\" class=\"data row1 col3\" >61.16</td>\n",
       "                        <td id=\"T_cfeace7e_e06c_11ea_9472_02420a39de9erow1_col4\" class=\"data row1 col4\" >2109.66</td>\n",
       "                        <td id=\"T_cfeace7e_e06c_11ea_9472_02420a39de9erow1_col5\" class=\"data row1 col5\" >45.93</td>\n",
       "                        <td id=\"T_cfeace7e_e06c_11ea_9472_02420a39de9erow1_col6\" class=\"data row1 col6\" >19706.98</td>\n",
       "                        <td id=\"T_cfeace7e_e06c_11ea_9472_02420a39de9erow1_col7\" class=\"data row1 col7\" >98746498.93</td>\n",
       "                        <td id=\"T_cfeace7e_e06c_11ea_9472_02420a39de9erow1_col8\" class=\"data row1 col8\" >9937.13</td>\n",
       "            </tr>\n",
       "    </tbody></table>"
      ],
      "text/plain": [
       "<pandas.io.formats.style.Styler at 0x7fdf6f507150>"
      ]
     },
     "execution_count": 89,
     "metadata": {},
     "output_type": "execute_result"
    }
   ],
   "source": [
    "(\n",
    "    df_users_month_total.groupby('tariff')['calls_duration', 'messages_count', 'internet_traffic']\n",
    "    .agg(['mean', 'var', 'std'])\n",
    "    .style.format('{:.2f}')\n",
    ")"
   ]
  },
  {
   "cell_type": "markdown",
   "metadata": {},
   "source": [
    "По графикам и таблице выше можно сделать выводы:\n",
    "* Распределение данных похоже на распрделение Пуассона.\n",
    "* Пользователям тарифа СМАРТ в среднем не хватает интернета, а минут и сообщений в среднем хватает. При этом есть пользователи, которые вообще не используют интернет.\n",
    "* В тариф УЛЬТРА входит огромное количество минут и сообщений; ни один пользователь не смог достичь лимита. В среднем интернет трафика достаточно, однако некоторым пользователям не хватает (их меньше 25% от общего числа пользователей этого тарифа).\n",
    "_______________\n",
    "Теперь рассмотрим те же данные, но без детализации по месяцам. Для каждого пользователя посчитаем среднее количество потраченных минут, сообщений, трафика, платежей"
   ]
  },
  {
   "cell_type": "code",
   "execution_count": 90,
   "metadata": {},
   "outputs": [
    {
     "data": {
      "text/html": [
       "<div>\n",
       "<style scoped>\n",
       "    .dataframe tbody tr th:only-of-type {\n",
       "        vertical-align: middle;\n",
       "    }\n",
       "\n",
       "    .dataframe tbody tr th {\n",
       "        vertical-align: top;\n",
       "    }\n",
       "\n",
       "    .dataframe thead th {\n",
       "        text-align: right;\n",
       "    }\n",
       "</style>\n",
       "<table border=\"1\" class=\"dataframe\">\n",
       "  <thead>\n",
       "    <tr style=\"text-align: right;\">\n",
       "      <th></th>\n",
       "      <th>user_id</th>\n",
       "      <th>calls_duration</th>\n",
       "      <th>messages_count</th>\n",
       "      <th>internet_traffic</th>\n",
       "      <th>over_payment</th>\n",
       "      <th>total_payment</th>\n",
       "      <th>tariff</th>\n",
       "    </tr>\n",
       "  </thead>\n",
       "  <tbody>\n",
       "    <tr>\n",
       "      <td>0</td>\n",
       "      <td>1000</td>\n",
       "      <td>320.750000</td>\n",
       "      <td>62.0</td>\n",
       "      <td>13436.500000</td>\n",
       "      <td>0.000000</td>\n",
       "      <td>1950.000000</td>\n",
       "      <td>ultra</td>\n",
       "    </tr>\n",
       "    <tr>\n",
       "      <td>1</td>\n",
       "      <td>1001</td>\n",
       "      <td>422.000000</td>\n",
       "      <td>0.0</td>\n",
       "      <td>16252.500000</td>\n",
       "      <td>400.000000</td>\n",
       "      <td>950.000000</td>\n",
       "      <td>smart</td>\n",
       "    </tr>\n",
       "    <tr>\n",
       "      <td>2</td>\n",
       "      <td>1002</td>\n",
       "      <td>216.714286</td>\n",
       "      <td>10.0</td>\n",
       "      <td>16597.571429</td>\n",
       "      <td>485.714286</td>\n",
       "      <td>1035.714286</td>\n",
       "      <td>smart</td>\n",
       "    </tr>\n",
       "    <tr>\n",
       "      <td>3</td>\n",
       "      <td>1003</td>\n",
       "      <td>764.400000</td>\n",
       "      <td>76.0</td>\n",
       "      <td>11465.800000</td>\n",
       "      <td>0.000000</td>\n",
       "      <td>1950.000000</td>\n",
       "      <td>ultra</td>\n",
       "    </tr>\n",
       "    <tr>\n",
       "      <td>4</td>\n",
       "      <td>1004</td>\n",
       "      <td>123.375000</td>\n",
       "      <td>149.0</td>\n",
       "      <td>18646.500000</td>\n",
       "      <td>0.000000</td>\n",
       "      <td>1950.000000</td>\n",
       "      <td>ultra</td>\n",
       "    </tr>\n",
       "    <tr>\n",
       "      <td>...</td>\n",
       "      <td>...</td>\n",
       "      <td>...</td>\n",
       "      <td>...</td>\n",
       "      <td>...</td>\n",
       "      <td>...</td>\n",
       "      <td>...</td>\n",
       "      <td>...</td>\n",
       "    </tr>\n",
       "    <tr>\n",
       "      <td>493</td>\n",
       "      <td>1495</td>\n",
       "      <td>784.000000</td>\n",
       "      <td>68.0</td>\n",
       "      <td>25507.200000</td>\n",
       "      <td>360.000000</td>\n",
       "      <td>2310.000000</td>\n",
       "      <td>ultra</td>\n",
       "    </tr>\n",
       "    <tr>\n",
       "      <td>494</td>\n",
       "      <td>1496</td>\n",
       "      <td>498.666667</td>\n",
       "      <td>39.0</td>\n",
       "      <td>22605.750000</td>\n",
       "      <td>1829.250000</td>\n",
       "      <td>2379.250000</td>\n",
       "      <td>smart</td>\n",
       "    </tr>\n",
       "    <tr>\n",
       "      <td>495</td>\n",
       "      <td>1497</td>\n",
       "      <td>468.666667</td>\n",
       "      <td>17.0</td>\n",
       "      <td>15208.666667</td>\n",
       "      <td>378.333333</td>\n",
       "      <td>928.333333</td>\n",
       "      <td>smart</td>\n",
       "    </tr>\n",
       "    <tr>\n",
       "      <td>496</td>\n",
       "      <td>1498</td>\n",
       "      <td>323.250000</td>\n",
       "      <td>42.0</td>\n",
       "      <td>18631.500000</td>\n",
       "      <td>1109.000000</td>\n",
       "      <td>1659.000000</td>\n",
       "      <td>smart</td>\n",
       "    </tr>\n",
       "    <tr>\n",
       "      <td>497</td>\n",
       "      <td>1499</td>\n",
       "      <td>405.750000</td>\n",
       "      <td>46.0</td>\n",
       "      <td>12679.500000</td>\n",
       "      <td>402.750000</td>\n",
       "      <td>952.750000</td>\n",
       "      <td>smart</td>\n",
       "    </tr>\n",
       "  </tbody>\n",
       "</table>\n",
       "<p>498 rows × 7 columns</p>\n",
       "</div>"
      ],
      "text/plain": [
       "     user_id  calls_duration  messages_count  internet_traffic  over_payment  \\\n",
       "0       1000      320.750000            62.0      13436.500000      0.000000   \n",
       "1       1001      422.000000             0.0      16252.500000    400.000000   \n",
       "2       1002      216.714286            10.0      16597.571429    485.714286   \n",
       "3       1003      764.400000            76.0      11465.800000      0.000000   \n",
       "4       1004      123.375000           149.0      18646.500000      0.000000   \n",
       "..       ...             ...             ...               ...           ...   \n",
       "493     1495      784.000000            68.0      25507.200000    360.000000   \n",
       "494     1496      498.666667            39.0      22605.750000   1829.250000   \n",
       "495     1497      468.666667            17.0      15208.666667    378.333333   \n",
       "496     1498      323.250000            42.0      18631.500000   1109.000000   \n",
       "497     1499      405.750000            46.0      12679.500000    402.750000   \n",
       "\n",
       "     total_payment tariff  \n",
       "0      1950.000000  ultra  \n",
       "1       950.000000  smart  \n",
       "2      1035.714286  smart  \n",
       "3      1950.000000  ultra  \n",
       "4      1950.000000  ultra  \n",
       "..             ...    ...  \n",
       "493    2310.000000  ultra  \n",
       "494    2379.250000  smart  \n",
       "495     928.333333  smart  \n",
       "496    1659.000000  smart  \n",
       "497     952.750000  smart  \n",
       "\n",
       "[498 rows x 7 columns]"
      ]
     },
     "execution_count": 90,
     "metadata": {},
     "output_type": "execute_result"
    }
   ],
   "source": [
    "df_users_total = df_users_month_total.reset_index()\n",
    "df_users_mean = df_users_total.fillna(0).groupby('user_id')[['calls_duration', \n",
    "                                                             'messages_count', \n",
    "                                                             'internet_traffic', \n",
    "                                                             'over_payment', \n",
    "                                                             'total_payment']].mean()\n",
    "\n",
    "df_users_mean = df_users_mean.merge(df_users[['user_id', 'tariff']], left_on='user_id', right_on='user_id')\n",
    "df_users_mean"
   ]
  },
  {
   "cell_type": "code",
   "execution_count": 91,
   "metadata": {
    "scrolled": false
   },
   "outputs": [
    {
     "data": {
      "image/png": "[encoded data removed]",
      "text/plain": [
       "<Figure size 648x432 with 1 Axes>"
      ]
     },
     "metadata": {
      "needs_background": "light"
     },
     "output_type": "display_data"
    },
    {
     "data": {
      "image/png": "[encoded data removed]",
      "text/plain": [
       "<Figure size 648x432 with 1 Axes>"
      ]
     },
     "metadata": {
      "needs_background": "light"
     },
     "output_type": "display_data"
    },
    {
     "data": {
      "image/png": "[encoded data removed]",
      "text/plain": [
       "<Figure size 648x432 with 1 Axes>"
      ]
     },
     "metadata": {
      "needs_background": "light"
     },
     "output_type": "display_data"
    }
   ],
   "source": [
    "df_users_mean = df_users_mean.sort_values('tariff')\n",
    "create_boxplot_tariff((9,6), df_users_mean.tariff, df_users_mean.calls_duration, 500, 0, 'Количество минут разговора в месяц', 'Сравнение количества минут')\n",
    "create_boxplot_tariff((9,6), df_users_mean.tariff, df_users_mean.messages_count, 50, 0, 'Количество сообщений в месяц', 'Сравнение количества сообщений')\n",
    "create_boxplot_tariff((9,6), df_users_mean.tariff, df_users_mean.internet_traffic, 15*1024, 30*1024, 'Количество МБ в месяц', 'Сравнение интернет трафика')"
   ]
  },
  {
   "cell_type": "code",
   "execution_count": 92,
   "metadata": {},
   "outputs": [
    {
     "data": {
      "text/html": [
       "<style  type=\"text/css\" >\n",
       "</style><table id=\"T_d0967f58_e06c_11ea_9472_02420a39de9e\" ><thead>    <tr>        <th class=\"blank\" ></th>        <th class=\"blank level0\" ></th>        <th class=\"col_heading level0 col0\" colspan=2>calls_duration</th>        <th class=\"col_heading level0 col2\" colspan=2>messages_count</th>        <th class=\"col_heading level0 col4\" colspan=2>internet_traffic</th>    </tr>    <tr>        <th class=\"blank\" ></th>        <th class=\"blank level1\" ></th>        <th class=\"col_heading level1 col0\" >mean</th>        <th class=\"col_heading level1 col1\" >std</th>        <th class=\"col_heading level1 col2\" >mean</th>        <th class=\"col_heading level1 col3\" >std</th>        <th class=\"col_heading level1 col4\" >mean</th>        <th class=\"col_heading level1 col5\" >std</th>    </tr>    <tr>        <th class=\"index_name level0\" ></th>        <th class=\"index_name level1\" >tariff</th>        <th class=\"blank\" ></th>        <th class=\"blank\" ></th>        <th class=\"blank\" ></th>        <th class=\"blank\" ></th>        <th class=\"blank\" ></th>        <th class=\"blank\" ></th>    </tr></thead><tbody>\n",
       "                <tr>\n",
       "                        <th id=\"T_d0967f58_e06c_11ea_9472_02420a39de9elevel0_row0\" class=\"row_heading level0 row0\" rowspan=2>С детализацией по месяцам</th>\n",
       "                        <th id=\"T_d0967f58_e06c_11ea_9472_02420a39de9elevel1_row0\" class=\"row_heading level1 row0\" >smart</th>\n",
       "                        <td id=\"T_d0967f58_e06c_11ea_9472_02420a39de9erow0_col0\" class=\"data row0 col0\" >419.44</td>\n",
       "                        <td id=\"T_d0967f58_e06c_11ea_9472_02420a39de9erow0_col1\" class=\"data row0 col1\" >188.99</td>\n",
       "                        <td id=\"T_d0967f58_e06c_11ea_9472_02420a39de9erow0_col2\" class=\"data row0 col2\" >38.72</td>\n",
       "                        <td id=\"T_d0967f58_e06c_11ea_9472_02420a39de9erow0_col3\" class=\"data row0 col3\" >26.79</td>\n",
       "                        <td id=\"T_d0967f58_e06c_11ea_9472_02420a39de9erow0_col4\" class=\"data row0 col4\" >16243.76</td>\n",
       "                        <td id=\"T_d0967f58_e06c_11ea_9472_02420a39de9erow0_col5\" class=\"data row0 col5\" >5860.04</td>\n",
       "            </tr>\n",
       "            <tr>\n",
       "                                <th id=\"T_d0967f58_e06c_11ea_9472_02420a39de9elevel1_row1\" class=\"row_heading level1 row1\" >ultra</th>\n",
       "                        <td id=\"T_d0967f58_e06c_11ea_9472_02420a39de9erow1_col0\" class=\"data row1 col0\" >547.76</td>\n",
       "                        <td id=\"T_d0967f58_e06c_11ea_9472_02420a39de9erow1_col1\" class=\"data row1 col1\" >305.51</td>\n",
       "                        <td id=\"T_d0967f58_e06c_11ea_9472_02420a39de9erow1_col2\" class=\"data row1 col2\" >61.16</td>\n",
       "                        <td id=\"T_d0967f58_e06c_11ea_9472_02420a39de9erow1_col3\" class=\"data row1 col3\" >45.93</td>\n",
       "                        <td id=\"T_d0967f58_e06c_11ea_9472_02420a39de9erow1_col4\" class=\"data row1 col4\" >19706.98</td>\n",
       "                        <td id=\"T_d0967f58_e06c_11ea_9472_02420a39de9erow1_col5\" class=\"data row1 col5\" >9937.13</td>\n",
       "            </tr>\n",
       "            <tr>\n",
       "                        <th id=\"T_d0967f58_e06c_11ea_9472_02420a39de9elevel0_row2\" class=\"row_heading level0 row2\" rowspan=2>Без детализации по месяцам</th>\n",
       "                        <th id=\"T_d0967f58_e06c_11ea_9472_02420a39de9elevel1_row2\" class=\"row_heading level1 row2\" >smart</th>\n",
       "                        <td id=\"T_d0967f58_e06c_11ea_9472_02420a39de9erow2_col0\" class=\"data row2 col0\" >419.63</td>\n",
       "                        <td id=\"T_d0967f58_e06c_11ea_9472_02420a39de9erow2_col1\" class=\"data row2 col1\" >145.03</td>\n",
       "                        <td id=\"T_d0967f58_e06c_11ea_9472_02420a39de9erow2_col2\" class=\"data row2 col2\" >32.35</td>\n",
       "                        <td id=\"T_d0967f58_e06c_11ea_9472_02420a39de9erow2_col3\" class=\"data row2 col3\" >26.51</td>\n",
       "                        <td id=\"T_d0967f58_e06c_11ea_9472_02420a39de9erow2_col4\" class=\"data row2 col4\" >16201.39</td>\n",
       "                        <td id=\"T_d0967f58_e06c_11ea_9472_02420a39de9erow2_col5\" class=\"data row2 col5\" >3583.64</td>\n",
       "            </tr>\n",
       "            <tr>\n",
       "                                <th id=\"T_d0967f58_e06c_11ea_9472_02420a39de9elevel1_row3\" class=\"row_heading level1 row3\" >ultra</th>\n",
       "                        <td id=\"T_d0967f58_e06c_11ea_9472_02420a39de9erow3_col0\" class=\"data row3 col0\" >527.82</td>\n",
       "                        <td id=\"T_d0967f58_e06c_11ea_9472_02420a39de9erow3_col1\" class=\"data row3 col1\" >281.79</td>\n",
       "                        <td id=\"T_d0967f58_e06c_11ea_9472_02420a39de9erow3_col2\" class=\"data row3 col2\" >54.03</td>\n",
       "                        <td id=\"T_d0967f58_e06c_11ea_9472_02420a39de9erow3_col3\" class=\"data row3 col3\" >46.37</td>\n",
       "                        <td id=\"T_d0967f58_e06c_11ea_9472_02420a39de9erow3_col4\" class=\"data row3 col4\" >19592.84</td>\n",
       "                        <td id=\"T_d0967f58_e06c_11ea_9472_02420a39de9erow3_col5\" class=\"data row3 col5\" >8318.75</td>\n",
       "            </tr>\n",
       "    </tbody></table>"
      ],
      "text/plain": [
       "<pandas.io.formats.style.Styler at 0x7fdfc0858e10>"
      ]
     },
     "execution_count": 92,
     "metadata": {},
     "output_type": "execute_result"
    }
   ],
   "source": [
    "pd.concat([\n",
    "    (\n",
    "        df_users_month_total.groupby('tariff')['calls_duration', 'messages_count', 'internet_traffic']\n",
    "        .agg(['mean', 'std'])\n",
    "    )\n",
    "    ,\n",
    "    (\n",
    "        df_users_mean.groupby('tariff')['calls_duration', 'messages_count', 'internet_traffic']\n",
    "        .agg(['mean', 'std'])\n",
    "    )],\n",
    "         keys = ['С детализацией по месяцам', 'Без детализации по месяцам']\n",
    "    ).style.format('{:.2f}')\n"
   ]
  },
  {
   "cell_type": "markdown",
   "metadata": {},
   "source": [
    "По графикам особой разницы в данных не видно, выводы совпадают с предыдущими. По таблице можно сказать, что сильно уменьшилось стандартное отклонение, средние значения сильно уменьшились только в количестве сообщений, в остальном все примерно также."
   ]
  },
  {
   "cell_type": "markdown",
   "metadata": {},
   "source": [
    "### Вывод:\n",
    "* Распределение данных похоже на распрделение Пуассона.\n",
    "* Пользователям тарифа СМАРТ в среднем не хватает интернета, а минут и сообщений в среднем хватает. При этом есть пользователи, которые вообще не используют интернет.\n",
    "* В тариф УЛЬТРА входит огромное количество минут и сообщений; ни один пользователь не смог достичь лимита. В среднем интернет трафика достаточно, однако некоторым пользователям не хватает (их меньше 25% от общего числа пользователей этого тарифа).\n",
    "* Если рассматривать средние значения трат для пользователей без привязки к месяцам, можно заметно уменьшить стандартное отклонение"
   ]
  },
  {
   "cell_type": "markdown",
   "metadata": {},
   "source": [
    "   \n",
    "Рассмотрим рапределение выручки и клиентов между тарифами:"
   ]
  },
  {
   "cell_type": "code",
   "execution_count": 93,
   "metadata": {},
   "outputs": [
    {
     "data": {
      "image/png": "[encoded data removed]",
      "text/plain": [
       "<Figure size 648x432 with 1 Axes>"
      ]
     },
     "metadata": {
      "needs_background": "light"
     },
     "output_type": "display_data"
    }
   ],
   "source": [
    "create_boxplot_tariff((9,6), df_users_month_total.tariff, df_users_month_total.total_payment, 550, 1950, 'Сумма платежа в месяц', 'Сравнение размера платежа')"
   ]
  },
  {
   "cell_type": "code",
   "execution_count": 94,
   "metadata": {},
   "outputs": [
    {
     "name": "stdout",
     "output_type": "stream",
     "text": [
      "Количество месячных платежей за год по каждому тарифу:\n"
     ]
    },
    {
     "data": {
      "text/plain": [
       "tariff\n",
       "smart    2229\n",
       "ultra     985\n",
       "Name: total_payment, dtype: int64"
      ]
     },
     "execution_count": 94,
     "metadata": {},
     "output_type": "execute_result"
    }
   ],
   "source": [
    "print('Количество месячных платежей за год по каждому тарифу:')\n",
    "df_users_month_total.groupby('tariff').total_payment.count()"
   ]
  },
  {
   "cell_type": "code",
   "execution_count": 95,
   "metadata": {},
   "outputs": [
    {
     "name": "stdout",
     "output_type": "stream",
     "text": [
      "Количество пользователей по каждому тарифу:\n"
     ]
    },
    {
     "data": {
      "text/plain": [
       "tariff\n",
       "smart    351\n",
       "ultra    149\n",
       "Name: user_id, dtype: int64"
      ]
     },
     "execution_count": 95,
     "metadata": {},
     "output_type": "execute_result"
    }
   ],
   "source": [
    "print('Количество пользователей по каждому тарифу:')\n",
    "df_users.groupby('tariff').user_id.count()"
   ]
  },
  {
   "cell_type": "markdown",
   "metadata": {},
   "source": [
    "**По графику видно, что:**\n",
    "- среднее значение суммы ежемесячного платежа выше для тарифа УЛЬТРА\n",
    "- платежи по тарифу СМАРТ чаще включают плату за дополнительные услуги (минут, сообщения, трафик)\n",
    "- у тарифа СМАРТ больший процент платежей превышает 2000 рублей в месяц по сравнению с тарифом УЛЬТРА\n",
    "\n",
    "Число платежей по тарифу СМАРТ в ~2.3 раза больше числа платежей по УЛЬТРА"
   ]
  },
  {
   "cell_type": "markdown",
   "metadata": {},
   "source": [
    "[Оглавление](#Оглавление)\n",
    "<a id='Шаг4'></a>\n",
    "\n",
    "# Шаг 4. Проверка гипотез\n",
    "\n",
    "## 1. Cредняя выручка пользователей тарифов «Ультра» и «Смарт» различается\n",
    "\n",
    "Предполагаю, что за тарифы установлена справедливая цена, в таком случае интерес вызывает размер переплат пользователей, поскольку от этого зависит доход. Сформулируем гипотезы:\n",
    "\n",
    "- H0: средние значения переплат для пользователей разных тарифов равны.\n",
    "- H1: средние значения переплат для пользователей разных тарифов не равны.\n",
    "\n",
    "Оценим данные ежемесячных платежей клиентов детализированных по месяцам:"
   ]
  },
  {
   "cell_type": "code",
   "execution_count": 96,
   "metadata": {},
   "outputs": [
    {
     "data": {
      "image/png": "[encoded data removed]",
      "text/plain": [
       "<Figure size 648x432 with 1 Axes>"
      ]
     },
     "metadata": {
      "needs_background": "light"
     },
     "output_type": "display_data"
    },
    {
     "data": {
      "image/png": "[encoded data removed]",
      "text/plain": [
       "<Figure size 648x432 with 1 Axes>"
      ]
     },
     "metadata": {
      "needs_background": "light"
     },
     "output_type": "display_data"
    },
    {
     "data": {
      "text/html": [
       "<style  type=\"text/css\" >\n",
       "</style><table id=\"T_d1296fac_e06c_11ea_9472_02420a39de9e\" ><thead>    <tr>        <th class=\"blank level0\" ></th>        <th class=\"col_heading level0 col0\" >over_payment</th>        <th class=\"col_heading level0 col1\" >total_payment</th>    </tr>    <tr>        <th class=\"blank level1\" ></th>        <th class=\"col_heading level1 col0\" >mean</th>        <th class=\"col_heading level1 col1\" >mean</th>    </tr>    <tr>        <th class=\"index_name level0\" >tariff</th>        <th class=\"blank\" ></th>        <th class=\"blank\" ></th>    </tr></thead><tbody>\n",
       "                <tr>\n",
       "                        <th id=\"T_d1296fac_e06c_11ea_9472_02420a39de9elevel0_row0\" class=\"row_heading level0 row0\" >smart</th>\n",
       "                        <td id=\"T_d1296fac_e06c_11ea_9472_02420a39de9erow0_col0\" class=\"data row0 col0\" >744.64</td>\n",
       "                        <td id=\"T_d1296fac_e06c_11ea_9472_02420a39de9erow0_col1\" class=\"data row0 col1\" >1294.64</td>\n",
       "            </tr>\n",
       "            <tr>\n",
       "                        <th id=\"T_d1296fac_e06c_11ea_9472_02420a39de9elevel0_row1\" class=\"row_heading level0 row1\" >ultra</th>\n",
       "                        <td id=\"T_d1296fac_e06c_11ea_9472_02420a39de9erow1_col0\" class=\"data row1 col0\" >121.07</td>\n",
       "                        <td id=\"T_d1296fac_e06c_11ea_9472_02420a39de9erow1_col1\" class=\"data row1 col1\" >2071.07</td>\n",
       "            </tr>\n",
       "    </tbody></table>"
      ],
      "text/plain": [
       "<pandas.io.formats.style.Styler at 0x7fdf6f9c7b90>"
      ]
     },
     "execution_count": 96,
     "metadata": {},
     "output_type": "execute_result"
    }
   ],
   "source": [
    "create_boxplot_tariff((9,6), df_users_month_total.tariff, df_users_month_total.over_payment, 0, 0, 'Сумма, руб', 'Сравнение переплат')\n",
    "create_boxplot_tariff((9,6), df_users_month_total.tariff, df_users_month_total.total_payment, 0, 0, 'Сумма, руб', 'Сравнение общего размера платежа')\n",
    "df_users_month_total.reset_index().groupby('tariff')[['over_payment','total_payment']].agg(['mean']).style.format('{:.2f}')"
   ]
  },
  {
   "cell_type": "markdown",
   "metadata": {},
   "source": [
    "Рассмотрим подробнее распределения признака `over_payment` "
   ]
  },
  {
   "cell_type": "code",
   "execution_count": 97,
   "metadata": {},
   "outputs": [
    {
     "data": {
      "image/png": "[encoded data removed]",
      "text/plain": [
       "<Figure size 432x288 with 1 Axes>"
      ]
     },
     "metadata": {
      "needs_background": "light"
     },
     "output_type": "display_data"
    },
    {
     "data": {
      "image/png": "[encoded data removed]",
      "text/plain": [
       "<Figure size 432x288 with 1 Axes>"
      ]
     },
     "metadata": {
      "needs_background": "light"
     },
     "output_type": "display_data"
    }
   ],
   "source": [
    "stats.probplot(df_users_month_smart.over_payment, dist=\"norm\", plot=pylab)\n",
    "plt.title('Распределение для переплат для тарифа СМАРТ')\n",
    "plt.show()\n",
    "\n",
    "stats.probplot(df_users_month_ultra.over_payment, dist=\"norm\", plot=pylab)\n",
    "plt.title('Распределение для переплат для тарифа УЛЬТРА')\n",
    "plt.show()"
   ]
  },
  {
   "cell_type": "markdown",
   "metadata": {},
   "source": [
    "Так как распределение не соответсвует нормальному, для проверки гипотизы о равенстве средних буду использовать критерий Манна-Уитни"
   ]
  },
  {
   "cell_type": "code",
   "execution_count": 98,
   "metadata": {},
   "outputs": [
    {
     "name": "stdout",
     "output_type": "stream",
     "text": [
      "Statistics=423447.000, p=0.000\n",
      "Отвергаем нулевую гипотезу\n"
     ]
    }
   ],
   "source": [
    "stat, p = stats.mannwhitneyu(df_users_month_smart.over_payment, df_users_month_ultra.over_payment)\n",
    "print('Statistics=%.3f, p=%.3f' % (stat, p))\n",
    "# interpret\n",
    "alpha = 0.05\n",
    "if p > alpha:\n",
    "    print('Не получилось отвергнуть нулевую гипотезу')\n",
    "else:\n",
    "    print('Отвергаем нулевую гипотезу')"
   ]
  },
  {
   "cell_type": "markdown",
   "metadata": {},
   "source": [
    "Теперь рассмотрим данные по пользователям без детализации по месяцам:"
   ]
  },
  {
   "cell_type": "code",
   "execution_count": 99,
   "metadata": {},
   "outputs": [
    {
     "data": {
      "text/html": [
       "<div>\n",
       "<style scoped>\n",
       "    .dataframe tbody tr th:only-of-type {\n",
       "        vertical-align: middle;\n",
       "    }\n",
       "\n",
       "    .dataframe tbody tr th {\n",
       "        vertical-align: top;\n",
       "    }\n",
       "\n",
       "    .dataframe thead th {\n",
       "        text-align: right;\n",
       "    }\n",
       "</style>\n",
       "<table border=\"1\" class=\"dataframe\">\n",
       "  <thead>\n",
       "    <tr style=\"text-align: right;\">\n",
       "      <th></th>\n",
       "      <th>user_id</th>\n",
       "      <th>calls_duration</th>\n",
       "      <th>messages_count</th>\n",
       "      <th>internet_traffic</th>\n",
       "      <th>over_payment</th>\n",
       "      <th>total_payment</th>\n",
       "      <th>tariff</th>\n",
       "    </tr>\n",
       "  </thead>\n",
       "  <tbody>\n",
       "    <tr>\n",
       "      <td>248</td>\n",
       "      <td>1249</td>\n",
       "      <td>205.600000</td>\n",
       "      <td>22.0</td>\n",
       "      <td>13456.000000</td>\n",
       "      <td>200.000000</td>\n",
       "      <td>750.000000</td>\n",
       "      <td>smart</td>\n",
       "    </tr>\n",
       "    <tr>\n",
       "      <td>301</td>\n",
       "      <td>1302</td>\n",
       "      <td>204.083333</td>\n",
       "      <td>73.0</td>\n",
       "      <td>14630.166667</td>\n",
       "      <td>324.500000</td>\n",
       "      <td>874.500000</td>\n",
       "      <td>smart</td>\n",
       "    </tr>\n",
       "    <tr>\n",
       "      <td>300</td>\n",
       "      <td>1301</td>\n",
       "      <td>440.000000</td>\n",
       "      <td>0.0</td>\n",
       "      <td>16576.250000</td>\n",
       "      <td>1146.250000</td>\n",
       "      <td>1696.250000</td>\n",
       "      <td>smart</td>\n",
       "    </tr>\n",
       "    <tr>\n",
       "      <td>298</td>\n",
       "      <td>1299</td>\n",
       "      <td>420.666667</td>\n",
       "      <td>44.0</td>\n",
       "      <td>15033.416667</td>\n",
       "      <td>383.166667</td>\n",
       "      <td>933.166667</td>\n",
       "      <td>smart</td>\n",
       "    </tr>\n",
       "    <tr>\n",
       "      <td>297</td>\n",
       "      <td>1298</td>\n",
       "      <td>463.166667</td>\n",
       "      <td>28.0</td>\n",
       "      <td>19187.666667</td>\n",
       "      <td>1270.666667</td>\n",
       "      <td>1820.666667</td>\n",
       "      <td>smart</td>\n",
       "    </tr>\n",
       "    <tr>\n",
       "      <td>...</td>\n",
       "      <td>...</td>\n",
       "      <td>...</td>\n",
       "      <td>...</td>\n",
       "      <td>...</td>\n",
       "      <td>...</td>\n",
       "      <td>...</td>\n",
       "      <td>...</td>\n",
       "    </tr>\n",
       "    <tr>\n",
       "      <td>160</td>\n",
       "      <td>1161</td>\n",
       "      <td>289.800000</td>\n",
       "      <td>33.6</td>\n",
       "      <td>15472.800000</td>\n",
       "      <td>520.000000</td>\n",
       "      <td>1070.000000</td>\n",
       "      <td>smart</td>\n",
       "    </tr>\n",
       "    <tr>\n",
       "      <td>161</td>\n",
       "      <td>1162</td>\n",
       "      <td>187.666667</td>\n",
       "      <td>0.0</td>\n",
       "      <td>16466.333333</td>\n",
       "      <td>533.333333</td>\n",
       "      <td>1083.333333</td>\n",
       "      <td>smart</td>\n",
       "    </tr>\n",
       "    <tr>\n",
       "      <td>163</td>\n",
       "      <td>1164</td>\n",
       "      <td>326.000000</td>\n",
       "      <td>35.0</td>\n",
       "      <td>14669.666667</td>\n",
       "      <td>222.222222</td>\n",
       "      <td>772.222222</td>\n",
       "      <td>smart</td>\n",
       "    </tr>\n",
       "    <tr>\n",
       "      <td>14</td>\n",
       "      <td>1014</td>\n",
       "      <td>227.125000</td>\n",
       "      <td>44.0</td>\n",
       "      <td>23874.750000</td>\n",
       "      <td>1826.500000</td>\n",
       "      <td>2376.500000</td>\n",
       "      <td>smart</td>\n",
       "    </tr>\n",
       "    <tr>\n",
       "      <td>15</td>\n",
       "      <td>1015</td>\n",
       "      <td>423.111111</td>\n",
       "      <td>65.0</td>\n",
       "      <td>18543.555556</td>\n",
       "      <td>1149.444444</td>\n",
       "      <td>1699.444444</td>\n",
       "      <td>smart</td>\n",
       "    </tr>\n",
       "  </tbody>\n",
       "</table>\n",
       "<p>350 rows × 7 columns</p>\n",
       "</div>"
      ],
      "text/plain": [
       "     user_id  calls_duration  messages_count  internet_traffic  over_payment  \\\n",
       "248     1249      205.600000            22.0      13456.000000    200.000000   \n",
       "301     1302      204.083333            73.0      14630.166667    324.500000   \n",
       "300     1301      440.000000             0.0      16576.250000   1146.250000   \n",
       "298     1299      420.666667            44.0      15033.416667    383.166667   \n",
       "297     1298      463.166667            28.0      19187.666667   1270.666667   \n",
       "..       ...             ...             ...               ...           ...   \n",
       "160     1161      289.800000            33.6      15472.800000    520.000000   \n",
       "161     1162      187.666667             0.0      16466.333333    533.333333   \n",
       "163     1164      326.000000            35.0      14669.666667    222.222222   \n",
       "14      1014      227.125000            44.0      23874.750000   1826.500000   \n",
       "15      1015      423.111111            65.0      18543.555556   1149.444444   \n",
       "\n",
       "     total_payment tariff  \n",
       "248     750.000000  smart  \n",
       "301     874.500000  smart  \n",
       "300    1696.250000  smart  \n",
       "298     933.166667  smart  \n",
       "297    1820.666667  smart  \n",
       "..             ...    ...  \n",
       "160    1070.000000  smart  \n",
       "161    1083.333333  smart  \n",
       "163     772.222222  smart  \n",
       "14     2376.500000  smart  \n",
       "15     1699.444444  smart  \n",
       "\n",
       "[350 rows x 7 columns]"
      ]
     },
     "execution_count": 99,
     "metadata": {},
     "output_type": "execute_result"
    }
   ],
   "source": [
    "df_users_mean.query('tariff == \"ultra\"')\n",
    "df_users_mean.query('tariff == \"smart\"')"
   ]
  },
  {
   "cell_type": "code",
   "execution_count": 100,
   "metadata": {},
   "outputs": [
    {
     "data": {
      "image/png": "[encoded data removed]",
      "text/plain": [
       "<Figure size 648x432 with 1 Axes>"
      ]
     },
     "metadata": {
      "needs_background": "light"
     },
     "output_type": "display_data"
    },
    {
     "data": {
      "image/png": "[encoded data removed]",
      "text/plain": [
       "<Figure size 648x432 with 1 Axes>"
      ]
     },
     "metadata": {
      "needs_background": "light"
     },
     "output_type": "display_data"
    },
    {
     "data": {
      "image/png": "[encoded data removed]",
      "text/plain": [
       "<Figure size 432x288 with 1 Axes>"
      ]
     },
     "metadata": {
      "needs_background": "light"
     },
     "output_type": "display_data"
    },
    {
     "data": {
      "image/png": "[encoded data removed]",
      "text/plain": [
       "<Figure size 432x288 with 1 Axes>"
      ]
     },
     "metadata": {
      "needs_background": "light"
     },
     "output_type": "display_data"
    }
   ],
   "source": [
    "# графики boxplot\n",
    "create_boxplot_tariff((9,6), df_users_mean.tariff, df_users_mean.over_payment, 0, 0, 'Сумма, руб', 'Сравнение переплат')\n",
    "create_boxplot_tariff((9,6), df_users_mean.tariff, df_users_mean.total_payment, 0, 0, 'Сумма, руб', 'Сравнение общего размера платежа')\n",
    "plt.show()\n",
    "df_users_mean.reset_index().groupby('tariff')[['over_payment','total_payment']].agg(['mean', 'median'])\n",
    "\n",
    "# графики qqplot\n",
    "stats.probplot(df_users_mean.query('tariff == \"smart\"').over_payment, dist=\"norm\", plot=pylab)\n",
    "plt.title('Распределение для переплат для тарифа СМАРТ')\n",
    "plt.show()\n",
    "stats.probplot(df_users_mean.query('tariff == \"ultra\"').over_payment, dist=\"norm\", plot=pylab)\n",
    "plt.title('Распределение для переплат для тарифа УЛЬТРА')\n",
    "plt.show()"
   ]
  },
  {
   "cell_type": "code",
   "execution_count": 101,
   "metadata": {},
   "outputs": [
    {
     "name": "stdout",
     "output_type": "stream",
     "text": [
      "Statistics=6171.500, p=0.000\n",
      "Отвергаем нулевую гипотезу\n"
     ]
    }
   ],
   "source": [
    "# проверка гипотез\n",
    "stat, p = stats.mannwhitneyu(df_users_mean.query('tariff == \"smart\"').over_payment, df_users_mean.query('tariff == \"ultra\"').over_payment)\n",
    "print('Statistics=%.3f, p=%.3f' % (stat, p))\n",
    "# interpret\n",
    "alpha = 0.05\n",
    "if p > alpha:\n",
    "    print('Не получилось отвергнуть нулевую гипотезу')\n",
    "else:\n",
    "    print('Отвергаем нулевую гипотезу')"
   ]
  },
  {
   "cell_type": "markdown",
   "metadata": {},
   "source": [
    "### Итог:\n",
    "Отвергаю нулевую гипотезу о равенстве средних двух выборок\n",
    "___\n"
   ]
  },
  {
   "cell_type": "markdown",
   "metadata": {},
   "source": [
    "Проверю гипотезу о равенстве средних платежей для разных тарифов с детализацией по месяцам:\n",
    "\n",
    "- H0: ежемесячные платежи для пользователей разных тарифов равны.\n",
    "- H1: ежемесячные платежи для пользователей разных тарифов не равны.\n",
    "\n",
    "Для сравнения буду использовать метод сравнения средних"
   ]
  },
  {
   "cell_type": "code",
   "execution_count": 102,
   "metadata": {},
   "outputs": [
    {
     "name": "stdout",
     "output_type": "stream",
     "text": [
      "Statistics=402632.000, p=0.000\n",
      "Отвергаем нулевую гипотезу\n"
     ]
    }
   ],
   "source": [
    "# проверка гипотез\n",
    "stat, p = stats.mannwhitneyu(df_users_month_total.query('tariff == \"smart\"').total_payment, df_users_month_total.query('tariff == \"ultra\"').total_payment)\n",
    "print('Statistics=%.3f, p=%.3f' % (stat, p))\n",
    "# interpret\n",
    "alpha = 0.05\n",
    "if p > alpha:\n",
    "    print('Не получилось отвергнуть нулевую гипотезу')\n",
    "else:\n",
    "    print('Отвергаем нулевую гипотезу')"
   ]
  },
  {
   "cell_type": "markdown",
   "metadata": {},
   "source": [
    "### Итог:\n",
    "Отвергаю нулевую гипотезу о равенстве средних двух выборок\n",
    "___\n"
   ]
  },
  {
   "cell_type": "markdown",
   "metadata": {},
   "source": [
    "## 2. Cредняя выручка пользователей из Москвы отличается от выручки пользователей из других регионов\n",
    "\n",
    "Сформулируем гипотезы:\n",
    "\n",
    "- H0: средняя ежемесячная плата для пользователей из Москвы и регионов совпадает.\n",
    "- H1: средняя ежемесячная плата для пользователей из Москвы и регионов не совпадает.\n",
    "\n",
    "Проверим нет ли дублирующих названий в признаке `city`"
   ]
  },
  {
   "cell_type": "code",
   "execution_count": 103,
   "metadata": {
    "scrolled": true
   },
   "outputs": [
    {
     "data": {
      "text/plain": [
       "['Архангельск',\n",
       " 'Астрахань',\n",
       " 'Балашиха',\n",
       " 'Барнаул',\n",
       " 'Белгород',\n",
       " 'Брянск',\n",
       " 'Владивосток',\n",
       " 'Владикавказ',\n",
       " 'Владимир',\n",
       " 'Волгоград',\n",
       " 'Волжский',\n",
       " 'Вологда',\n",
       " 'Воронеж',\n",
       " 'Грозный',\n",
       " 'Екатеринбург',\n",
       " 'Иваново',\n",
       " 'Ижевск',\n",
       " 'Иркутск',\n",
       " 'Казань',\n",
       " 'Калининград',\n",
       " 'Калуга',\n",
       " 'Кемерово',\n",
       " 'Киров',\n",
       " 'Кострома',\n",
       " 'Краснодар',\n",
       " 'Красноярск',\n",
       " 'Курган',\n",
       " 'Курск',\n",
       " 'Липецк',\n",
       " 'Магнитогорск',\n",
       " 'Махачкала',\n",
       " 'Москва',\n",
       " 'Мурманск',\n",
       " 'Набережные Челны',\n",
       " 'Нижневартовск',\n",
       " 'Нижний Новгород',\n",
       " 'Нижний Тагил',\n",
       " 'Новокузнецк',\n",
       " 'Новороссийск',\n",
       " 'Новосибирск',\n",
       " 'Омск',\n",
       " 'Оренбург',\n",
       " 'Орёл',\n",
       " 'Пенза',\n",
       " 'Пермь',\n",
       " 'Петрозаводск',\n",
       " 'Подольск',\n",
       " 'Ростов-на-Дону',\n",
       " 'Рязань',\n",
       " 'Самара',\n",
       " 'Санкт-Петербург',\n",
       " 'Саранск',\n",
       " 'Саратов',\n",
       " 'Севастополь',\n",
       " 'Смоленск',\n",
       " 'Сочи',\n",
       " 'Ставрополь',\n",
       " 'Стерлитамак',\n",
       " 'Сургут',\n",
       " 'Тамбов',\n",
       " 'Тверь',\n",
       " 'Тольятти',\n",
       " 'Томск',\n",
       " 'Тула',\n",
       " 'Тюмень',\n",
       " 'Улан-Удэ',\n",
       " 'Ульяновск',\n",
       " 'Уфа',\n",
       " 'Хабаровск',\n",
       " 'Химки',\n",
       " 'Чебоксары',\n",
       " 'Челябинск',\n",
       " 'Череповец',\n",
       " 'Чита',\n",
       " 'Якутск',\n",
       " 'Ярославль']"
      ]
     },
     "execution_count": 103,
     "metadata": {},
     "output_type": "execute_result"
    }
   ],
   "source": [
    "sorted(df_users.city.unique())"
   ]
  },
  {
   "cell_type": "markdown",
   "metadata": {},
   "source": [
    "В признаке `city` датафрейма `df_users` дублирующих наименований нет. Добавлю признак `city` в датафрейм `df_users_total`"
   ]
  },
  {
   "cell_type": "code",
   "execution_count": 104,
   "metadata": {},
   "outputs": [],
   "source": [
    "df_users_total = df_users_total.merge(df_users[['user_id', 'city']], left_on='user_id', right_on='user_id', suffixes=('_left', '_right'))"
   ]
  },
  {
   "cell_type": "markdown",
   "metadata": {},
   "source": [
    "Добавлю категориальный признак `region`"
   ]
  },
  {
   "cell_type": "code",
   "execution_count": 105,
   "metadata": {},
   "outputs": [],
   "source": [
    "def check_region(x):\n",
    "    if x == 'Москва':\n",
    "        return 'Москва'\n",
    "    return 'Регион'\n",
    "df_users_total['region'] = df_users_total['city'].apply(check_region)"
   ]
  },
  {
   "cell_type": "code",
   "execution_count": 106,
   "metadata": {},
   "outputs": [
    {
     "data": {
      "text/html": [
       "<div>\n",
       "<style scoped>\n",
       "    .dataframe tbody tr th:only-of-type {\n",
       "        vertical-align: middle;\n",
       "    }\n",
       "\n",
       "    .dataframe tbody tr th {\n",
       "        vertical-align: top;\n",
       "    }\n",
       "\n",
       "    .dataframe thead th {\n",
       "        text-align: right;\n",
       "    }\n",
       "</style>\n",
       "<table border=\"1\" class=\"dataframe\">\n",
       "  <thead>\n",
       "    <tr style=\"text-align: right;\">\n",
       "      <th></th>\n",
       "      <th>user_id</th>\n",
       "      <th>month</th>\n",
       "      <th>calls_duration</th>\n",
       "      <th>calls_count</th>\n",
       "      <th>messages_count</th>\n",
       "      <th>internet_traffic</th>\n",
       "      <th>over_minutes</th>\n",
       "      <th>over_messages</th>\n",
       "      <th>over_internet</th>\n",
       "      <th>over_internet_gd</th>\n",
       "      <th>over_payment</th>\n",
       "      <th>total_payment</th>\n",
       "      <th>tariff</th>\n",
       "      <th>city</th>\n",
       "      <th>region</th>\n",
       "    </tr>\n",
       "  </thead>\n",
       "  <tbody>\n",
       "    <tr>\n",
       "      <td>0</td>\n",
       "      <td>1001</td>\n",
       "      <td>11</td>\n",
       "      <td>430.0</td>\n",
       "      <td>45.0</td>\n",
       "      <td>NaN</td>\n",
       "      <td>18452.0</td>\n",
       "      <td>0.0</td>\n",
       "      <td>0.0</td>\n",
       "      <td>3092.0</td>\n",
       "      <td>4</td>\n",
       "      <td>800.0</td>\n",
       "      <td>1350.0</td>\n",
       "      <td>smart</td>\n",
       "      <td>Москва</td>\n",
       "      <td>Москва</td>\n",
       "    </tr>\n",
       "    <tr>\n",
       "      <td>1</td>\n",
       "      <td>1001</td>\n",
       "      <td>12</td>\n",
       "      <td>414.0</td>\n",
       "      <td>47.0</td>\n",
       "      <td>NaN</td>\n",
       "      <td>14053.0</td>\n",
       "      <td>0.0</td>\n",
       "      <td>0.0</td>\n",
       "      <td>0.0</td>\n",
       "      <td>0</td>\n",
       "      <td>0.0</td>\n",
       "      <td>550.0</td>\n",
       "      <td>smart</td>\n",
       "      <td>Москва</td>\n",
       "      <td>Москва</td>\n",
       "    </tr>\n",
       "    <tr>\n",
       "      <td>2</td>\n",
       "      <td>1002</td>\n",
       "      <td>6</td>\n",
       "      <td>117.0</td>\n",
       "      <td>14.0</td>\n",
       "      <td>4.0</td>\n",
       "      <td>10871.0</td>\n",
       "      <td>0.0</td>\n",
       "      <td>0.0</td>\n",
       "      <td>0.0</td>\n",
       "      <td>0</td>\n",
       "      <td>0.0</td>\n",
       "      <td>550.0</td>\n",
       "      <td>smart</td>\n",
       "      <td>Стерлитамак</td>\n",
       "      <td>Регион</td>\n",
       "    </tr>\n",
       "    <tr>\n",
       "      <td>3</td>\n",
       "      <td>1002</td>\n",
       "      <td>7</td>\n",
       "      <td>214.0</td>\n",
       "      <td>21.0</td>\n",
       "      <td>11.0</td>\n",
       "      <td>17601.0</td>\n",
       "      <td>0.0</td>\n",
       "      <td>0.0</td>\n",
       "      <td>2241.0</td>\n",
       "      <td>3</td>\n",
       "      <td>600.0</td>\n",
       "      <td>1150.0</td>\n",
       "      <td>smart</td>\n",
       "      <td>Стерлитамак</td>\n",
       "      <td>Регион</td>\n",
       "    </tr>\n",
       "    <tr>\n",
       "      <td>4</td>\n",
       "      <td>1002</td>\n",
       "      <td>8</td>\n",
       "      <td>289.0</td>\n",
       "      <td>37.0</td>\n",
       "      <td>13.0</td>\n",
       "      <td>20347.0</td>\n",
       "      <td>0.0</td>\n",
       "      <td>0.0</td>\n",
       "      <td>4987.0</td>\n",
       "      <td>5</td>\n",
       "      <td>1000.0</td>\n",
       "      <td>1550.0</td>\n",
       "      <td>smart</td>\n",
       "      <td>Стерлитамак</td>\n",
       "      <td>Регион</td>\n",
       "    </tr>\n",
       "    <tr>\n",
       "      <td>...</td>\n",
       "      <td>...</td>\n",
       "      <td>...</td>\n",
       "      <td>...</td>\n",
       "      <td>...</td>\n",
       "      <td>...</td>\n",
       "      <td>...</td>\n",
       "      <td>...</td>\n",
       "      <td>...</td>\n",
       "      <td>...</td>\n",
       "      <td>...</td>\n",
       "      <td>...</td>\n",
       "      <td>...</td>\n",
       "      <td>...</td>\n",
       "      <td>...</td>\n",
       "      <td>...</td>\n",
       "    </tr>\n",
       "    <tr>\n",
       "      <td>3209</td>\n",
       "      <td>1495</td>\n",
       "      <td>8</td>\n",
       "      <td>92.0</td>\n",
       "      <td>13.0</td>\n",
       "      <td>13.0</td>\n",
       "      <td>2616.0</td>\n",
       "      <td>0.0</td>\n",
       "      <td>0.0</td>\n",
       "      <td>0.0</td>\n",
       "      <td>0</td>\n",
       "      <td>0.0</td>\n",
       "      <td>1950.0</td>\n",
       "      <td>ultra</td>\n",
       "      <td>Иркутск</td>\n",
       "      <td>Регион</td>\n",
       "    </tr>\n",
       "    <tr>\n",
       "      <td>3210</td>\n",
       "      <td>1495</td>\n",
       "      <td>9</td>\n",
       "      <td>813.0</td>\n",
       "      <td>95.0</td>\n",
       "      <td>82.0</td>\n",
       "      <td>33105.0</td>\n",
       "      <td>0.0</td>\n",
       "      <td>0.0</td>\n",
       "      <td>2385.0</td>\n",
       "      <td>3</td>\n",
       "      <td>450.0</td>\n",
       "      <td>2400.0</td>\n",
       "      <td>ultra</td>\n",
       "      <td>Иркутск</td>\n",
       "      <td>Регион</td>\n",
       "    </tr>\n",
       "    <tr>\n",
       "      <td>3211</td>\n",
       "      <td>1495</td>\n",
       "      <td>10</td>\n",
       "      <td>1030.0</td>\n",
       "      <td>126.0</td>\n",
       "      <td>82.0</td>\n",
       "      <td>29393.0</td>\n",
       "      <td>0.0</td>\n",
       "      <td>0.0</td>\n",
       "      <td>0.0</td>\n",
       "      <td>0</td>\n",
       "      <td>0.0</td>\n",
       "      <td>1950.0</td>\n",
       "      <td>ultra</td>\n",
       "      <td>Иркутск</td>\n",
       "      <td>Регион</td>\n",
       "    </tr>\n",
       "    <tr>\n",
       "      <td>3212</td>\n",
       "      <td>1495</td>\n",
       "      <td>11</td>\n",
       "      <td>954.0</td>\n",
       "      <td>112.0</td>\n",
       "      <td>79.0</td>\n",
       "      <td>38972.0</td>\n",
       "      <td>0.0</td>\n",
       "      <td>0.0</td>\n",
       "      <td>8252.0</td>\n",
       "      <td>9</td>\n",
       "      <td>1350.0</td>\n",
       "      <td>3300.0</td>\n",
       "      <td>ultra</td>\n",
       "      <td>Иркутск</td>\n",
       "      <td>Регион</td>\n",
       "    </tr>\n",
       "    <tr>\n",
       "      <td>3213</td>\n",
       "      <td>1495</td>\n",
       "      <td>12</td>\n",
       "      <td>1031.0</td>\n",
       "      <td>120.0</td>\n",
       "      <td>84.0</td>\n",
       "      <td>23450.0</td>\n",
       "      <td>0.0</td>\n",
       "      <td>0.0</td>\n",
       "      <td>0.0</td>\n",
       "      <td>0</td>\n",
       "      <td>0.0</td>\n",
       "      <td>1950.0</td>\n",
       "      <td>ultra</td>\n",
       "      <td>Иркутск</td>\n",
       "      <td>Регион</td>\n",
       "    </tr>\n",
       "  </tbody>\n",
       "</table>\n",
       "<p>3214 rows × 15 columns</p>\n",
       "</div>"
      ],
      "text/plain": [
       "      user_id  month  calls_duration  calls_count  messages_count  \\\n",
       "0        1001     11           430.0         45.0             NaN   \n",
       "1        1001     12           414.0         47.0             NaN   \n",
       "2        1002      6           117.0         14.0             4.0   \n",
       "3        1002      7           214.0         21.0            11.0   \n",
       "4        1002      8           289.0         37.0            13.0   \n",
       "...       ...    ...             ...          ...             ...   \n",
       "3209     1495      8            92.0         13.0            13.0   \n",
       "3210     1495      9           813.0         95.0            82.0   \n",
       "3211     1495     10          1030.0        126.0            82.0   \n",
       "3212     1495     11           954.0        112.0            79.0   \n",
       "3213     1495     12          1031.0        120.0            84.0   \n",
       "\n",
       "      internet_traffic  over_minutes  over_messages  over_internet  \\\n",
       "0              18452.0           0.0            0.0         3092.0   \n",
       "1              14053.0           0.0            0.0            0.0   \n",
       "2              10871.0           0.0            0.0            0.0   \n",
       "3              17601.0           0.0            0.0         2241.0   \n",
       "4              20347.0           0.0            0.0         4987.0   \n",
       "...                ...           ...            ...            ...   \n",
       "3209            2616.0           0.0            0.0            0.0   \n",
       "3210           33105.0           0.0            0.0         2385.0   \n",
       "3211           29393.0           0.0            0.0            0.0   \n",
       "3212           38972.0           0.0            0.0         8252.0   \n",
       "3213           23450.0           0.0            0.0            0.0   \n",
       "\n",
       "      over_internet_gd  over_payment  total_payment tariff         city  \\\n",
       "0                    4         800.0         1350.0  smart       Москва   \n",
       "1                    0           0.0          550.0  smart       Москва   \n",
       "2                    0           0.0          550.0  smart  Стерлитамак   \n",
       "3                    3         600.0         1150.0  smart  Стерлитамак   \n",
       "4                    5        1000.0         1550.0  smart  Стерлитамак   \n",
       "...                ...           ...            ...    ...          ...   \n",
       "3209                 0           0.0         1950.0  ultra      Иркутск   \n",
       "3210                 3         450.0         2400.0  ultra      Иркутск   \n",
       "3211                 0           0.0         1950.0  ultra      Иркутск   \n",
       "3212                 9        1350.0         3300.0  ultra      Иркутск   \n",
       "3213                 0           0.0         1950.0  ultra      Иркутск   \n",
       "\n",
       "      region  \n",
       "0     Москва  \n",
       "1     Москва  \n",
       "2     Регион  \n",
       "3     Регион  \n",
       "4     Регион  \n",
       "...      ...  \n",
       "3209  Регион  \n",
       "3210  Регион  \n",
       "3211  Регион  \n",
       "3212  Регион  \n",
       "3213  Регион  \n",
       "\n",
       "[3214 rows x 15 columns]"
      ]
     },
     "execution_count": 106,
     "metadata": {},
     "output_type": "execute_result"
    }
   ],
   "source": [
    "df_users_total"
   ]
  },
  {
   "cell_type": "code",
   "execution_count": 107,
   "metadata": {
    "scrolled": false
   },
   "outputs": [
    {
     "data": {
      "image/png": "[encoded data removed]",
      "text/plain": [
       "<Figure size 648x432 with 1 Axes>"
      ]
     },
     "metadata": {
      "needs_background": "light"
     },
     "output_type": "display_data"
    }
   ],
   "source": [
    "create_boxplot_tariff((9,6), \n",
    "                      df_users_total.region, \n",
    "                      df_users_total.total_payment,\n",
    "                      0, 0, 'Сумма, руб', 'Сравнение ежемесячных платежей, включающих абонентскую плату и переплаты')\n",
    "\n",
    "plt.show()"
   ]
  },
  {
   "cell_type": "code",
   "execution_count": 108,
   "metadata": {},
   "outputs": [
    {
     "data": {
      "text/html": [
       "<style  type=\"text/css\" >\n",
       "</style><table id=\"T_d28a2f08_e06c_11ea_9472_02420a39de9e\" ><thead>    <tr>        <th class=\"blank level0\" ></th>        <th class=\"col_heading level0 col0\" colspan=3>total_payment</th>    </tr>    <tr>        <th class=\"blank level1\" ></th>        <th class=\"col_heading level1 col0\" >mean</th>        <th class=\"col_heading level1 col1\" >std</th>        <th class=\"col_heading level1 col2\" >var</th>    </tr>    <tr>        <th class=\"index_name level0\" >region</th>        <th class=\"blank\" ></th>        <th class=\"blank\" ></th>        <th class=\"blank\" ></th>    </tr></thead><tbody>\n",
       "                <tr>\n",
       "                        <th id=\"T_d28a2f08_e06c_11ea_9472_02420a39de9elevel0_row0\" class=\"row_heading level0 row0\" >Москва</th>\n",
       "                        <td id=\"T_d28a2f08_e06c_11ea_9472_02420a39de9erow0_col0\" class=\"data row0 col0\" >1550.81</td>\n",
       "                        <td id=\"T_d28a2f08_e06c_11ea_9472_02420a39de9erow0_col1\" class=\"data row0 col1\" >752.45</td>\n",
       "                        <td id=\"T_d28a2f08_e06c_11ea_9472_02420a39de9erow0_col2\" class=\"data row0 col2\" >566183.03</td>\n",
       "            </tr>\n",
       "            <tr>\n",
       "                        <th id=\"T_d28a2f08_e06c_11ea_9472_02420a39de9elevel0_row1\" class=\"row_heading level0 row1\" >Регион</th>\n",
       "                        <td id=\"T_d28a2f08_e06c_11ea_9472_02420a39de9erow1_col0\" class=\"data row1 col0\" >1528.32</td>\n",
       "                        <td id=\"T_d28a2f08_e06c_11ea_9472_02420a39de9erow1_col1\" class=\"data row1 col1\" >810.41</td>\n",
       "                        <td id=\"T_d28a2f08_e06c_11ea_9472_02420a39de9erow1_col2\" class=\"data row1 col2\" >656766.60</td>\n",
       "            </tr>\n",
       "    </tbody></table>"
      ],
      "text/plain": [
       "<pandas.io.formats.style.Styler at 0x7fdfc0766110>"
      ]
     },
     "execution_count": 108,
     "metadata": {},
     "output_type": "execute_result"
    }
   ],
   "source": [
    "df_users_total.groupby('region')[['total_payment']].agg(['mean', 'std', 'var']).style.format('{:.2f}')"
   ]
  },
  {
   "cell_type": "markdown",
   "metadata": {},
   "source": [
    "Москвичи всреднем больше платят за связь, при этом у них меньше отклонение от среднего."
   ]
  },
  {
   "cell_type": "markdown",
   "metadata": {},
   "source": [
    "Для проверки гипотезы буду использовать критерий Манна-Уитни:"
   ]
  },
  {
   "cell_type": "code",
   "execution_count": 109,
   "metadata": {},
   "outputs": [
    {
     "name": "stdout",
     "output_type": "stream",
     "text": [
      "Statistics=777502.000, p=0.192\n",
      "Не получилось отвергнуть нулевую гипотезу\n"
     ]
    }
   ],
   "source": [
    "stat, p = stats.mannwhitneyu(df_users_total.query('region == \"Москва\"').total_payment, df_users_total.query('region == \"Регион\"').total_payment)\n",
    "print('Statistics=%.3f, p=%.3f' % (stat, p))\n",
    "# interpret\n",
    "alpha = 0.05\n",
    "if p > alpha:\n",
    "    print('Не получилось отвергнуть нулевую гипотезу')\n",
    "else:\n",
    "    print('Отвергаем нулевую гипотезу')"
   ]
  },
  {
   "cell_type": "markdown",
   "metadata": {},
   "source": [
    "### Итог:\n",
    "Средняя ежемесячная плата для жителей Москвы и регионов совпадает.\n",
    "___"
   ]
  },
  {
   "cell_type": "markdown",
   "metadata": {},
   "source": [
    "## Вывод:\n",
    "- В ходе проверки гипотез удалось опровергнуть гипотезу о равенстве средних расходов для групп пользователей с разными тарифами.\n",
    "- В ходе проверки удалось подтвердить гипотезу о равенстве средних расходов для жителей Москвы и регионов."
   ]
  },
  {
   "cell_type": "markdown",
   "metadata": {},
   "source": [
    "[Оглавление](#Оглавление)\n",
    "<a id='Шаг5'></a>\n",
    "# Шаг 5. Общий вывод"
   ]
  },
  {
   "cell_type": "markdown",
   "metadata": {},
   "source": [
    "- В ходе исследования мы узнали, что пользователи с тарифом \"СМАРТ\" часто превышают лимит минут и МБ. Это приводит к тому, что средний месячный счет в 2.4 раза превышает стоимость пакетных услуг.\n",
    "- Пользователи с тарифом \"УЛЬТРА\" практически не переплачивают за связь\n",
    "- В ходе проверки гипотез удалось опровергнуть гипотезу о равенстве средних расходов для групп пользователей с разными тарифами.\n",
    "- В ходе проверки удалось подтвердить гипотезу о равенстве средних расходов для жителей Москвы и регионов.\n"
   ]
  }
 ],
 "metadata": {
  "kernelspec": {
   "display_name": "Python 3",
   "language": "python",
   "name": "python3"
  },
  "language_info": {
   "codemirror_mode": {
    "name": "ipython",
    "version": 3
   },
   "file_extension": ".py",
   "mimetype": "text/x-python",
   "name": "python",
   "nbconvert_exporter": "python",
   "pygments_lexer": "ipython3",
   "version": "3.7.4"
  }
 },
 "nbformat": 4,
 "nbformat_minor": 2
}
